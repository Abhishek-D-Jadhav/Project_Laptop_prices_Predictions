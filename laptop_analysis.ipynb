{
  "nbformat": 4,
  "nbformat_minor": 5,
  "metadata": {
    "selected_hardware_size": "small",
    "noteable": {
      "last_transaction_id": "5047c970-dff8-4e1b-b4fa-f53ba73e2836"
    }
  },
  "cells": [
    {
      "id": "9979d6b6-738a-4b73-9286-67bda276dcb3",
      "cell_type": "markdown",
      "source": "# Laptop Price Prediction\n\nIn this notebook, we will go through the process of analyzing and predicting laptop prices. The steps involved in the process are as follows:\n\n1. Data Loading and Preprocessing\n2. Exploratory Data Analysis\n3. Data Visualization\n4. Data Splitting\n5. Feature Scaling\n6. Model Training\n7. Price Prediction\n8. Model Evaluation\n9. Feature Engineering\n10. Model Selection\n11. Hyperparameter Tuning\n12. Model Interpretation\n13. Residual Analysis\n14. Validation\n15. Uncertainty Estimation\n\nAt the end, we will conclude with a summary of our findings and the performance of our model.",
      "metadata": {
        "noteable": {
          "cell_type": "markdown"
        }
      }
    },
    {
      "id": "44c1e1e8-040a-4cf8-b615-1ae006db0861",
      "cell_type": "markdown",
      "source": "## 1. Data Loading and Preprocessing",
      "metadata": {
        "noteable": {
          "cell_type": "markdown"
        }
      }
    },
    {
      "id": "b4109d3b-34bd-464a-8662-3bc015ef7a50",
      "cell_type": "code",
      "metadata": {
        "noteable": {
          "cell_type": "code",
          "output_collection_id": "bc78afc0-e21b-4321-b600-31f32811c768"
        },
        "ExecuteTime": {
          "end_time": "2023-07-02T11:32:53.802863+00:00",
          "start_time": "2023-07-02T11:32:53.578121+00:00"
        },
        "datalink": {
          "54787c03-063e-4575-83aa-aed8d23da049": {
            "applied_filters": [],
            "dataframe_info": {
              "default_index_used": true,
              "orig_num_cols": 13,
              "orig_num_rows": 5,
              "orig_size_bytes": 560,
              "truncated_num_cols": 13,
              "truncated_num_rows": 5,
              "truncated_size_bytes": 560,
              "truncated_string_columns": []
            },
            "display_id": "54787c03-063e-4575-83aa-aed8d23da049",
            "dx_settings": {
              "ALLOW_NOTEABLE_ATTRS": true,
              "COLUMN_SAMPLING_METHOD": "outer",
              "DB_LOCATION": ":memory:",
              "DEV_MODE": false,
              "DISPLAY_MAX_COLUMNS": 100,
              "DISPLAY_MAX_ROWS": 50000,
              "DISPLAY_MODE": "simple",
              "ENABLE_ASSIGNMENT": true,
              "ENABLE_DATALINK": true,
              "FLATTEN_COLUMN_VALUES": true,
              "FLATTEN_INDEX_VALUES": false,
              "GENERATE_DEX_METADATA": false,
              "HTML_TABLE_SCHEMA": false,
              "LOG_LEVEL": 30,
              "MAX_RENDER_SIZE_BYTES": 104857600,
              "MAX_STRING_LENGTH": 250,
              "NUM_PAST_SAMPLES_TRACKED": 3,
              "RANDOM_STATE": 12648430,
              "RESET_INDEX_VALUES": false,
              "ROW_SAMPLING_METHOD": "random",
              "SAMPLING_FACTOR": 0.1,
              "SAMPLING_METHOD": "random",
              "STRINGIFY_COLUMN_VALUES": true,
              "STRINGIFY_INDEX_VALUES": false
            },
            "sample_history": [],
            "sampling_time": "2023-06-26T21:02:42.238485",
            "user_variable_name": null,
            "variable_name": "unk_dataframe_a14cc43a6ed04594890cca32e937fed1"
          },
          "3848be14-cdc8-490d-9830-a629637bf477": {
            "applied_filters": [],
            "dataframe_info": {
              "default_index_used": true,
              "orig_num_cols": 13,
              "orig_num_rows": 5,
              "orig_size_bytes": 560,
              "truncated_num_cols": 13,
              "truncated_num_rows": 5,
              "truncated_size_bytes": 560,
              "truncated_string_columns": []
            },
            "display_id": "3848be14-cdc8-490d-9830-a629637bf477",
            "dx_settings": {
              "ALLOW_NOTEABLE_ATTRS": true,
              "COLUMN_SAMPLING_METHOD": "outer",
              "DB_LOCATION": ":memory:",
              "DEV_MODE": false,
              "DISPLAY_MAX_COLUMNS": 100,
              "DISPLAY_MAX_ROWS": 50000,
              "DISPLAY_MODE": "simple",
              "ENABLE_ASSIGNMENT": true,
              "ENABLE_DATALINK": true,
              "FLATTEN_COLUMN_VALUES": true,
              "FLATTEN_INDEX_VALUES": false,
              "GENERATE_DEX_METADATA": false,
              "HTML_TABLE_SCHEMA": false,
              "LOG_LEVEL": 30,
              "MAX_RENDER_SIZE_BYTES": 104857600,
              "MAX_STRING_LENGTH": 250,
              "NUM_PAST_SAMPLES_TRACKED": 3,
              "RANDOM_STATE": 12648430,
              "RESET_INDEX_VALUES": false,
              "ROW_SAMPLING_METHOD": "random",
              "SAMPLING_FACTOR": 0.1,
              "SAMPLING_METHOD": "random",
              "STRINGIFY_COLUMN_VALUES": true,
              "STRINGIFY_INDEX_VALUES": false
            },
            "sample_history": [],
            "sampling_time": "2023-06-26T22:05:15.791307",
            "user_variable_name": null,
            "variable_name": "unk_dataframe_6aa17382dc0e4436aa5a208466165a77"
          },
          "d7d8bdd9-8a99-4509-8ca3-51fa710d7b42": {
            "applied_filters": [],
            "dataframe_info": {
              "default_index_used": true,
              "orig_num_cols": 13,
              "orig_num_rows": 5,
              "orig_size_bytes": 560,
              "truncated_num_cols": 13,
              "truncated_num_rows": 5,
              "truncated_size_bytes": 560,
              "truncated_string_columns": []
            },
            "display_id": "d7d8bdd9-8a99-4509-8ca3-51fa710d7b42",
            "dx_settings": {
              "ALLOW_NOTEABLE_ATTRS": true,
              "COLUMN_SAMPLING_METHOD": "outer",
              "DB_LOCATION": ":memory:",
              "DEV_MODE": false,
              "DISPLAY_MAX_COLUMNS": 100,
              "DISPLAY_MAX_ROWS": 50000,
              "DISPLAY_MODE": "simple",
              "ENABLE_ASSIGNMENT": true,
              "ENABLE_DATALINK": true,
              "FLATTEN_COLUMN_VALUES": true,
              "FLATTEN_INDEX_VALUES": false,
              "GENERATE_DEX_METADATA": false,
              "HTML_TABLE_SCHEMA": false,
              "LOG_LEVEL": 30,
              "MAX_RENDER_SIZE_BYTES": 104857600,
              "MAX_STRING_LENGTH": 250,
              "NUM_PAST_SAMPLES_TRACKED": 3,
              "RANDOM_STATE": 12648430,
              "RESET_INDEX_VALUES": false,
              "ROW_SAMPLING_METHOD": "random",
              "SAMPLING_FACTOR": 0.1,
              "SAMPLING_METHOD": "random",
              "STRINGIFY_COLUMN_VALUES": true,
              "STRINGIFY_INDEX_VALUES": false
            },
            "sample_history": [],
            "sampling_time": "2023-06-26T22:06:29.086424",
            "user_variable_name": null,
            "variable_name": "unk_dataframe_c5c6a79a9eaf498a84f380daf4cae1cb"
          },
          "536ee0fe-df68-4562-bd2c-35158f74c6c6": {
            "applied_filters": [],
            "dataframe_info": {
              "default_index_used": true,
              "orig_num_cols": 13,
              "orig_num_rows": 5,
              "orig_size_bytes": 560,
              "truncated_num_cols": 13,
              "truncated_num_rows": 5,
              "truncated_size_bytes": 560,
              "truncated_string_columns": []
            },
            "display_id": "536ee0fe-df68-4562-bd2c-35158f74c6c6",
            "dx_settings": {
              "ALLOW_NOTEABLE_ATTRS": true,
              "COLUMN_SAMPLING_METHOD": "outer",
              "DB_LOCATION": ":memory:",
              "DEV_MODE": false,
              "DISPLAY_MAX_COLUMNS": 100,
              "DISPLAY_MAX_ROWS": 50000,
              "DISPLAY_MODE": "simple",
              "ENABLE_ASSIGNMENT": true,
              "ENABLE_DATALINK": true,
              "FLATTEN_COLUMN_VALUES": true,
              "FLATTEN_INDEX_VALUES": false,
              "GENERATE_DEX_METADATA": false,
              "HTML_TABLE_SCHEMA": false,
              "LOG_LEVEL": 30,
              "MAX_RENDER_SIZE_BYTES": 104857600,
              "MAX_STRING_LENGTH": 250,
              "NUM_PAST_SAMPLES_TRACKED": 3,
              "RANDOM_STATE": 12648430,
              "RESET_INDEX_VALUES": false,
              "ROW_SAMPLING_METHOD": "random",
              "SAMPLING_FACTOR": 0.1,
              "SAMPLING_METHOD": "random",
              "STRINGIFY_COLUMN_VALUES": true,
              "STRINGIFY_INDEX_VALUES": false
            },
            "sample_history": [],
            "sampling_time": "2023-06-29T09:20:07.844305",
            "user_variable_name": null,
            "variable_name": "unk_dataframe_af53908bee584a7a939ed67b25274d26"
          },
          "74da169f-3980-4a57-9760-914b78cb0df5": {
            "applied_filters": [],
            "dataframe_info": {
              "default_index_used": true,
              "orig_num_cols": 13,
              "orig_num_rows": 5,
              "orig_size_bytes": 560,
              "truncated_num_cols": 13,
              "truncated_num_rows": 5,
              "truncated_size_bytes": 560,
              "truncated_string_columns": []
            },
            "display_id": "74da169f-3980-4a57-9760-914b78cb0df5",
            "dx_settings": {
              "ALLOW_NOTEABLE_ATTRS": true,
              "COLUMN_SAMPLING_METHOD": "outer",
              "DB_LOCATION": ":memory:",
              "DEV_MODE": false,
              "DISPLAY_MAX_COLUMNS": 100,
              "DISPLAY_MAX_ROWS": 50000,
              "DISPLAY_MODE": "simple",
              "ENABLE_ASSIGNMENT": true,
              "ENABLE_DATALINK": true,
              "FLATTEN_COLUMN_VALUES": true,
              "FLATTEN_INDEX_VALUES": false,
              "GENERATE_DEX_METADATA": false,
              "HTML_TABLE_SCHEMA": false,
              "LOG_LEVEL": 30,
              "MAX_RENDER_SIZE_BYTES": 104857600,
              "MAX_STRING_LENGTH": 250,
              "NUM_PAST_SAMPLES_TRACKED": 3,
              "RANDOM_STATE": 12648430,
              "RESET_INDEX_VALUES": false,
              "ROW_SAMPLING_METHOD": "random",
              "SAMPLING_FACTOR": 0.1,
              "SAMPLING_METHOD": "random",
              "STRINGIFY_COLUMN_VALUES": true,
              "STRINGIFY_INDEX_VALUES": false
            },
            "sample_history": [],
            "sampling_time": "2023-07-02T11:32:53.643922",
            "user_variable_name": null,
            "variable_name": "unk_dataframe_fd4887be0e434ec4bae6bc30dabb2882"
          }
        },
        "dx": {
          "dashboard": {
            "multiViews": []
          },
          "fieldMetadata": {},
          "simpleTable": true,
          "updated": 1689259829708,
          "views": [
            {
              "annotationRules": [],
              "chart": {
                "facets": [],
                "tableSparklines": false,
                "tableStatistics": true
              },
              "chartMode": "grid",
              "confoRules": [],
              "decoration": {
                "footer": "",
                "subtitle": "",
                "title": "Table"
              },
              "facets": [],
              "filterSettings": {
                "SHOW_FILTER_PANEL": true,
                "filters": []
              },
              "id": "bbe798b3-5731-4380-a909-4015e8e129bd",
              "isComment": false,
              "isDefault": false,
              "isTransitory": false,
              "type": "public",
              "userID": ""
            }
          ]
        },
        "scrolled": false
      },
      "execution_count": null,
      "source": "import pandas as pd\n\n# Load the data\nlaptop_data = pd.read_csv('laptop_data_cleaned.csv')\n\n# Display the first few rows of the data\nlaptop_data.head()",
      "outputs": []
    },
    {
      "id": "16759b64-54ea-4f48-801e-d6ded326f454",
      "cell_type": "code",
      "metadata": {
        "jupyter": {
          "outputs_hidden": false,
          "source_hidden": false
        },
        "noteable": {
          "cell_type": "code",
          "output_collection_id": "8c032e84-3a51-4685-95c4-dcd5206b7f61"
        },
        "ExecuteTime": {
          "end_time": "2023-06-29T09:21:30.002008+00:00",
          "start_time": "2023-06-29T09:21:29.780328+00:00"
        },
        "datalink": {
          "bb8ff0a0-3074-46e0-ad1d-9fe5a0b450cb": {
            "applied_filters": [],
            "dataframe_info": {
              "default_index_used": true,
              "orig_num_cols": 13,
              "orig_num_rows": 5,
              "orig_size_bytes": 560,
              "truncated_num_cols": 13,
              "truncated_num_rows": 5,
              "truncated_size_bytes": 560,
              "truncated_string_columns": []
            },
            "display_id": "bb8ff0a0-3074-46e0-ad1d-9fe5a0b450cb",
            "dx_settings": {
              "ALLOW_NOTEABLE_ATTRS": true,
              "COLUMN_SAMPLING_METHOD": "outer",
              "DB_LOCATION": ":memory:",
              "DEV_MODE": false,
              "DISPLAY_MAX_COLUMNS": 100,
              "DISPLAY_MAX_ROWS": 50000,
              "DISPLAY_MODE": "simple",
              "ENABLE_ASSIGNMENT": true,
              "ENABLE_DATALINK": true,
              "FLATTEN_COLUMN_VALUES": true,
              "FLATTEN_INDEX_VALUES": false,
              "GENERATE_DEX_METADATA": false,
              "HTML_TABLE_SCHEMA": false,
              "LOG_LEVEL": 30,
              "MAX_RENDER_SIZE_BYTES": 104857600,
              "MAX_STRING_LENGTH": 250,
              "NUM_PAST_SAMPLES_TRACKED": 3,
              "RANDOM_STATE": 12648430,
              "RESET_INDEX_VALUES": false,
              "ROW_SAMPLING_METHOD": "random",
              "SAMPLING_FACTOR": 0.1,
              "SAMPLING_METHOD": "random",
              "STRINGIFY_COLUMN_VALUES": true,
              "STRINGIFY_INDEX_VALUES": false
            },
            "sample_history": [],
            "sampling_time": "2023-06-29T09:21:29.842809",
            "user_variable_name": null,
            "variable_name": "unk_dataframe_0ca7d76b6e034c30afc83ae5169a81d1"
          }
        },
        "scrolled": false,
        "dx": {
          "dashboard": {
            "multiViews": []
          },
          "fieldMetadata": {},
          "simpleTable": true,
          "updated": 1689260466970,
          "views": [
            {
              "annotationRules": [],
              "chart": {},
              "chartMode": "grid",
              "confoRules": [],
              "decoration": {
                "footer": "",
                "subtitle": "",
                "title": "Table"
              },
              "facets": [],
              "filterSettings": {
                "SHOW_FILTER_PANEL": true,
                "filters": []
              },
              "id": "first-view",
              "isDefault": true,
              "type": "public",
              "userID": ""
            },
            {
              "annotationRules": [],
              "chart": {
                "tableSparklines": false
              },
              "chartMode": "grid",
              "confoRules": [],
              "decoration": {
                "footer": "",
                "subtitle": "",
                "title": "Table"
              },
              "facets": [],
              "filterSettings": {
                "SHOW_FILTER_PANEL": true,
                "filters": []
              },
              "id": "first-view",
              "isDefault": true,
              "isTransitory": true,
              "type": "public",
              "userID": ""
            }
          ]
        }
      },
      "execution_count": null,
      "source": "# Display the last few rows of the data\nlaptop_data.tail()",
      "outputs": []
    },
    {
      "id": "1f603865-a3f4-45b9-abdc-0c4bedd770f3",
      "cell_type": "code",
      "metadata": {
        "jupyter": {
          "outputs_hidden": false,
          "source_hidden": false
        },
        "noteable": {
          "cell_type": "code",
          "output_collection_id": "362d4b29-c7f4-408d-a9a1-c02aad05baed"
        },
        "ExecuteTime": {
          "end_time": "2023-06-29T09:22:54.900633+00:00",
          "start_time": "2023-06-29T09:22:54.733090+00:00"
        },
        "scrolled": true
      },
      "execution_count": null,
      "source": "# Provides a summary of the DataFrame\nlaptop_data.info()",
      "outputs": []
    },
    {
      "id": "66c4cbd7-925a-4aef-b491-6764813eefcb",
      "cell_type": "markdown",
      "source": "The dataset does not contain any missing values.",
      "metadata": {
        "noteable": {
          "cell_type": "markdown"
        }
      }
    },
    {
      "id": "f0e680b7-0fb5-4dac-a746-3260331e03e0",
      "cell_type": "code",
      "metadata": {
        "jupyter": {
          "outputs_hidden": false,
          "source_hidden": false
        },
        "noteable": {
          "cell_type": "code",
          "output_collection_id": "7413efd2-02da-49cf-ade2-21e1a83c32db"
        },
        "ExecuteTime": {
          "end_time": "2023-06-29T09:26:13.294511+00:00",
          "start_time": "2023-06-29T09:26:13.133701+00:00"
        }
      },
      "execution_count": null,
      "source": "laptop_data.shape",
      "outputs": []
    },
    {
      "id": "e6268c1b-d8f0-4316-8bf7-ed3cda949e91",
      "cell_type": "markdown",
      "source": "## 2. Exploratory Data Analysis",
      "metadata": {
        "noteable": {
          "cell_type": "markdown"
        }
      }
    },
    {
      "id": "27a639fd-453e-43a8-a300-d2bec781ca85",
      "cell_type": "code",
      "metadata": {
        "noteable": {
          "cell_type": "code",
          "output_collection_id": "f6363930-cb07-4b1a-9998-62ffa3d8a124"
        },
        "ExecuteTime": {
          "end_time": "2023-06-26T21:04:49.745950+00:00",
          "start_time": "2023-06-26T21:04:49.482581+00:00"
        },
        "datalink": {
          "78cc551b-6bff-4f85-ae1a-ec72b9c8c3ba": {
            "applied_filters": [],
            "dataframe_info": {
              "default_index_used": false,
              "orig_num_cols": 13,
              "orig_num_rows": 11,
              "orig_size_bytes": 1232,
              "truncated_num_cols": 13,
              "truncated_num_rows": 11,
              "truncated_size_bytes": 1232,
              "truncated_string_columns": []
            },
            "display_id": "78cc551b-6bff-4f85-ae1a-ec72b9c8c3ba",
            "dx_settings": {
              "ALLOW_NOTEABLE_ATTRS": true,
              "COLUMN_SAMPLING_METHOD": "outer",
              "DB_LOCATION": ":memory:",
              "DEV_MODE": false,
              "DISPLAY_MAX_COLUMNS": 100,
              "DISPLAY_MAX_ROWS": 50000,
              "DISPLAY_MODE": "simple",
              "ENABLE_ASSIGNMENT": true,
              "ENABLE_DATALINK": true,
              "FLATTEN_COLUMN_VALUES": true,
              "FLATTEN_INDEX_VALUES": false,
              "GENERATE_DEX_METADATA": false,
              "HTML_TABLE_SCHEMA": false,
              "LOG_LEVEL": 30,
              "MAX_RENDER_SIZE_BYTES": 104857600,
              "MAX_STRING_LENGTH": 250,
              "NUM_PAST_SAMPLES_TRACKED": 3,
              "RANDOM_STATE": 12648430,
              "RESET_INDEX_VALUES": false,
              "ROW_SAMPLING_METHOD": "random",
              "SAMPLING_FACTOR": 0.1,
              "SAMPLING_METHOD": "random",
              "STRINGIFY_COLUMN_VALUES": true,
              "STRINGIFY_INDEX_VALUES": false
            },
            "sample_history": [],
            "sampling_time": "2023-06-26T21:04:49.586737",
            "user_variable_name": null,
            "variable_name": "unk_dataframe_3e0d5a2353f3481caacc1e161418ff53"
          }
        },
        "dx": {
          "dashboard": {
            "multiViews": []
          },
          "fieldMetadata": {},
          "simpleTable": true,
          "simpleTableExpanded": true,
          "updated": 1689260499664,
          "views": [
            {
              "annotationRules": [],
              "chart": {},
              "chartMode": "grid",
              "confoRules": [],
              "decoration": {
                "footer": "",
                "subtitle": "",
                "title": "Table"
              },
              "facets": [],
              "filterSettings": {
                "SHOW_FILTER_PANEL": true,
                "filters": []
              },
              "id": "first-view",
              "isDefault": true,
              "type": "public",
              "userID": ""
            },
            {
              "annotationRules": [],
              "chart": {
                "tableSparklines": false
              },
              "chartMode": "grid",
              "confoRules": [],
              "decoration": {
                "footer": "",
                "subtitle": "",
                "title": "Table"
              },
              "facets": [],
              "filterSettings": {
                "SHOW_FILTER_PANEL": true,
                "filters": []
              },
              "id": "first-view",
              "isDefault": true,
              "isTransitory": true,
              "type": "public",
              "userID": ""
            }
          ]
        }
      },
      "execution_count": null,
      "source": "# Summary statistics\nlaptop_data.describe(include='all')",
      "outputs": []
    },
    {
      "id": "1106e8b9-83e5-4e8b-baec-4b298be77597",
      "cell_type": "markdown",
      "source": "## 3. Data Visualization",
      "metadata": {
        "noteable": {
          "cell_type": "markdown"
        }
      }
    },
    {
      "id": "6040f749-287c-46c7-b1cd-7ecfd066e179",
      "cell_type": "code",
      "metadata": {
        "noteable": {
          "cell_type": "code",
          "output_collection_id": "e589926b-3e40-4222-99a7-5b2895236bf0"
        },
        "ExecuteTime": {
          "end_time": "2023-07-02T11:34:40.104728+00:00",
          "start_time": "2023-07-02T11:34:39.636391+00:00"
        },
        "tags": [
          "show_line_numbers"
        ]
      },
      "execution_count": null,
      "source": "import matplotlib.pyplot as plt\n\n# Plotting the distribution of Price\nplt.figure(figsize=(10, 6))\nplt.hist(laptop_data['Price'], bins=30, color='blue', alpha=0.7)\nplt.title('Distribution of Laptop Prices')\nplt.xlabel('Price')\nplt.ylabel('Frequency')\nplt.show()",
      "outputs": []
    },
    {
      "id": "cd4a00aa-e528-4800-8d07-ae6f8414bb32",
      "cell_type": "markdown",
      "source": "       Here is the histogram showing the distribution of laptop prices.",
      "metadata": {
        "noteable": {
          "cell_type": "markdown"
        }
      }
    },
    {
      "id": "72fdbd92-6659-47b3-955c-4444aa03bc34",
      "cell_type": "code",
      "metadata": {
        "noteable": {
          "cell_type": "code",
          "output_collection_id": "c14b6607-95bc-46ee-a84c-32917a668d84"
        },
        "ExecuteTime": {
          "end_time": "2023-06-26T21:07:25.694548+00:00",
          "start_time": "2023-06-26T21:07:25.242145+00:00"
        },
        "scrolled": true
      },
      "execution_count": null,
      "source": "# Scatter plot of Weight vs Price\nplt.figure(figsize=(10, 6))\nplt.scatter(laptop_data['Weight'], laptop_data['Price'], color='blue', alpha=0.7)\nplt.title('Weight vs Price')\nplt.xlabel('Weight')\nplt.ylabel('Price')\nplt.show()",
      "outputs": []
    },
    {
      "id": "c6b8d3a9-38f6-4eef-a0cd-98ebdd7a3106",
      "cell_type": "markdown",
      "source": "       Here is the scatter plot showing the relationship between the weight of the laptop and its price.",
      "metadata": {
        "noteable": {
          "cell_type": "markdown"
        }
      }
    },
    {
      "id": "963cb645-37d2-4ace-ad17-87862dbbad98",
      "cell_type": "markdown",
      "source": "## 4. Data Splitting",
      "metadata": {
        "noteable": {
          "cell_type": "markdown"
        }
      }
    },
    {
      "id": "ed4d6ac8-8e70-4e90-bfed-5dddacf81324",
      "cell_type": "code",
      "metadata": {
        "noteable": {
          "cell_type": "code",
          "output_collection_id": "bd7c4ee7-6f92-441a-955e-ce9089d81df2"
        },
        "ExecuteTime": {
          "end_time": "2023-06-26T21:08:33.992627+00:00",
          "start_time": "2023-06-26T21:08:33.497397+00:00"
        }
      },
      "execution_count": null,
      "source": "from sklearn.model_selection import train_test_split\n\n# Define our features and target\nX = laptop_data.drop('Price', axis=1)\ny = laptop_data['Price']\n\n# Split the data into training and test sets\nX_train, X_test, y_train, y_test = train_test_split(X, y, test_size=0.2, random_state=42)\n\n# Check the size of the training and test sets\nlen(X_train), len(X_test)",
      "outputs": []
    },
    {
      "id": "39da22ea-da99-49b1-a033-175f12ab7e20",
      "cell_type": "markdown",
      "source": "The data has been successfully split into a training set and a test set. The training set contains 1018 samples, and the test set contains 255 samples.",
      "metadata": {
        "noteable": {
          "cell_type": "markdown"
        }
      }
    },
    {
      "id": "ee5f71ec-f7fd-413e-a26e-d95f72cf46e0",
      "cell_type": "markdown",
      "source": "## 5. Feature Scaling",
      "metadata": {
        "noteable": {
          "cell_type": "markdown"
        }
      }
    },
    {
      "id": "97a92505-dab5-40d5-9e1b-51853f00e957",
      "cell_type": "code",
      "metadata": {
        "noteable": {
          "cell_type": "code",
          "output_collection_id": "9d9e98bd-6328-4870-a019-aa60e562c739"
        },
        "ExecuteTime": {
          "end_time": "2023-06-26T21:11:42.887513+00:00",
          "start_time": "2023-06-26T21:11:42.706871+00:00"
        },
        "scrolled": true
      },
      "execution_count": null,
      "source": "# Combine the training and test sets\ncombined_data = pd.concat([X_train, X_test])\n\n# One-hot encode the combined data\ncombined_data_encoded = pd.get_dummies(combined_data)\n\n# Split the encoded data back into a training set and a test set\nX_train_encoded = combined_data_encoded.loc[X_train.index]\nX_test_encoded = combined_data_encoded.loc[X_test.index]\n\n# Initialize the scaler\nscaler = StandardScaler()\n\n# Fit the scaler to the training data\nscaler.fit(X_train_encoded)\n\n# Transform the training and test data\nX_train_scaled = scaler.transform(X_train_encoded)\nX_test_scaled = scaler.transform(X_test_encoded)\n\n# Check the transformed data\nX_train_scaled, X_test_scaled",
      "outputs": []
    },
    {
      "id": "1c952a65-4c27-4dd1-80ec-078970a1d1c7",
      "cell_type": "markdown",
      "source": "The feature scaling process was successful. The training and test data have been transformed to have a mean of 0 and a standard deviation of 1. This will ensure that all features have the same scale, which can help improve the performance of many machine learning algorithms.",
      "metadata": {
        "noteable": {
          "cell_type": "markdown"
        }
      }
    },
    {
      "id": "61d6eac7-a45b-4753-adc6-70140d019acd",
      "cell_type": "markdown",
      "source": "## 6. Model Training",
      "metadata": {
        "noteable": {
          "cell_type": "markdown"
        }
      }
    },
    {
      "id": "208bff9d-07c1-4b7e-811c-63e05abafd87",
      "cell_type": "code",
      "metadata": {
        "noteable": {
          "cell_type": "code",
          "output_collection_id": "7e3cd86d-ee83-4249-a301-10377ce76c13"
        },
        "ExecuteTime": {
          "end_time": "2023-06-26T21:12:50.644363+00:00",
          "start_time": "2023-06-26T21:12:50.348664+00:00"
        }
      },
      "execution_count": null,
      "source": "from sklearn.linear_model import LinearRegression\n\n# Initialize the model\nmodel = LinearRegression()\n\n# Train the model on the training data\nmodel.fit(X_train_scaled, y_train)",
      "outputs": []
    },
    {
      "id": "b25b5751-907f-41d2-adc2-07ed587eae42",
      "cell_type": "markdown",
      "source": "The model has been trained successfully. The Linear Regression model is now ready to make predictions on the test data.",
      "metadata": {
        "noteable": {
          "cell_type": "markdown"
        }
      }
    },
    {
      "id": "e843c5c9-f3bb-450e-8c29-9a9ef66a5bec",
      "cell_type": "markdown",
      "source": "## 7. Price Prediction",
      "metadata": {
        "noteable": {
          "cell_type": "markdown"
        }
      }
    },
    {
      "id": "b50f8635-a5f9-4660-9437-32730c946938",
      "cell_type": "code",
      "metadata": {
        "noteable": {
          "cell_type": "code",
          "output_collection_id": "3ca09cc9-601f-4c75-96ba-fb72196a0eb2"
        },
        "ExecuteTime": {
          "end_time": "2023-06-26T21:13:58.045145+00:00",
          "start_time": "2023-06-26T21:13:57.871905+00:00"
        }
      },
      "execution_count": null,
      "source": "# Use the model to make predictions on the test data\ny_pred = model.predict(X_test_scaled)\n\n# Check the predicted prices\ny_pred",
      "outputs": []
    },
    {
      "id": "c10ed485-1a9b-4598-86e1-468a72d2d4ae",
      "cell_type": "markdown",
      "source": "The model has successfully made predictions on the test data. These predictions are in the form of an array of predicted laptop prices.",
      "metadata": {
        "noteable": {
          "cell_type": "markdown"
        }
      }
    },
    {
      "id": "f1c20c4c-9dae-41ac-b38b-43795e7a6ee1",
      "cell_type": "markdown",
      "source": "## 8. Model Evaluation",
      "metadata": {
        "noteable": {
          "cell_type": "markdown"
        }
      }
    },
    {
      "id": "82f9f170-6e22-4273-9a86-b9e4f60ab1a1",
      "cell_type": "code",
      "metadata": {
        "noteable": {
          "cell_type": "code",
          "output_collection_id": "ebf3b907-82a8-4228-9ce8-0ac017b992fa"
        },
        "ExecuteTime": {
          "end_time": "2023-06-26T21:15:25.451148+00:00",
          "start_time": "2023-06-26T21:15:25.291966+00:00"
        }
      },
      "execution_count": null,
      "source": "from sklearn.metrics import mean_absolute_error\n\n# Calculate the mean absolute error\nmae = mean_absolute_error(y_test, y_pred)\n\n# Print the mean absolute error\nmae",
      "outputs": []
    },
    {
      "id": "e3cdee73-b37a-4c78-8a2b-e50effda9ed5",
      "cell_type": "markdown",
      "source": "The mean absolute error (MAE) of the model on the test data is approximately 0.215. This means that on average, the model's predictions are about 0.215 units away from the actual prices.",
      "metadata": {
        "noteable": {
          "cell_type": "markdown"
        }
      }
    },
    {
      "id": "f9d55a6b-b005-4219-857f-8925b77f0fda",
      "cell_type": "markdown",
      "source": "## 9. Feature Engineering",
      "metadata": {
        "noteable": {
          "cell_type": "markdown"
        }
      }
    },
    {
      "id": "6be785ac-ff83-4396-a669-a536263e25ac",
      "cell_type": "code",
      "metadata": {
        "noteable": {
          "cell_type": "code",
          "output_collection_id": "867df002-e467-4c35-909d-418b62fc070e"
        },
        "ExecuteTime": {
          "end_time": "2023-06-26T21:16:26.693972+00:00",
          "start_time": "2023-06-26T21:16:26.497996+00:00"
        },
        "datalink": {
          "8f8178e3-78a9-4af1-aea2-34a6d5d060c9": {
            "applied_filters": [],
            "dataframe_info": {
              "default_index_used": true,
              "orig_num_cols": 1,
              "orig_num_rows": 5,
              "orig_size_bytes": 80,
              "truncated_num_cols": 1,
              "truncated_num_rows": 5,
              "truncated_size_bytes": 80,
              "truncated_string_columns": []
            },
            "display_id": "8f8178e3-78a9-4af1-aea2-34a6d5d060c9",
            "dx_settings": {
              "ALLOW_NOTEABLE_ATTRS": true,
              "COLUMN_SAMPLING_METHOD": "outer",
              "DB_LOCATION": ":memory:",
              "DEV_MODE": false,
              "DISPLAY_MAX_COLUMNS": 100,
              "DISPLAY_MAX_ROWS": 50000,
              "DISPLAY_MODE": "simple",
              "ENABLE_ASSIGNMENT": true,
              "ENABLE_DATALINK": true,
              "FLATTEN_COLUMN_VALUES": true,
              "FLATTEN_INDEX_VALUES": false,
              "GENERATE_DEX_METADATA": false,
              "HTML_TABLE_SCHEMA": false,
              "LOG_LEVEL": 30,
              "MAX_RENDER_SIZE_BYTES": 104857600,
              "MAX_STRING_LENGTH": 250,
              "NUM_PAST_SAMPLES_TRACKED": 3,
              "RANDOM_STATE": 12648430,
              "RESET_INDEX_VALUES": false,
              "ROW_SAMPLING_METHOD": "random",
              "SAMPLING_FACTOR": 0.1,
              "SAMPLING_METHOD": "random",
              "STRINGIFY_COLUMN_VALUES": true,
              "STRINGIFY_INDEX_VALUES": false
            },
            "sample_history": [],
            "sampling_time": "2023-06-26T21:16:26.538522",
            "user_variable_name": null,
            "variable_name": "unk_dataframe_db2ac794e96e4d37945e24801dbc5283"
          }
        },
        "dx": {
          "dashboard": {
            "multiViews": []
          },
          "fieldMetadata": {},
          "simpleTable": true,
          "updated": 1689260526832,
          "views": [
            {
              "annotationRules": [],
              "chart": {},
              "chartMode": "grid",
              "confoRules": [],
              "decoration": {
                "footer": "",
                "subtitle": "",
                "title": "Table"
              },
              "facets": [],
              "filterSettings": {
                "SHOW_FILTER_PANEL": true,
                "filters": []
              },
              "id": "first-view",
              "isDefault": true,
              "type": "public",
              "userID": ""
            },
            {
              "annotationRules": [],
              "chart": {
                "tableSparklines": false
              },
              "chartMode": "grid",
              "confoRules": [],
              "decoration": {
                "footer": "",
                "subtitle": "",
                "title": "Table"
              },
              "facets": [],
              "filterSettings": {
                "SHOW_FILTER_PANEL": true,
                "filters": []
              },
              "id": "first-view",
              "isDefault": true,
              "isTransitory": true,
              "type": "public",
              "userID": ""
            }
          ]
        }
      },
      "execution_count": null,
      "source": "# Create a new feature 'Ram_per_Weight' which is the ratio of Ram to Weight\ncombined_data_encoded['Ram_per_Weight'] = combined_data_encoded['Ram'] / combined_data_encoded['Weight']\n\n# Split the encoded data back into a training set and a test set\nX_train_encoded = combined_data_encoded.loc[X_train.index]\nX_test_encoded = combined_data_encoded.loc[X_test.index]\n\n# Check the new feature\nX_train_encoded['Ram_per_Weight'].head()",
      "outputs": []
    },
    {
      "id": "d53de7da-3013-4c45-bd88-f306b4a5262d",
      "cell_type": "markdown",
      "source": "We have successfully created a new feature 'Ram_per_Weight', which is the ratio of Ram to Weight. Here are the first few values of this new feature in the training set.",
      "metadata": {
        "noteable": {
          "cell_type": "markdown"
        }
      }
    },
    {
      "id": "0db7de15-db0a-4861-9730-0235a1058403",
      "cell_type": "code",
      "metadata": {
        "noteable": {
          "cell_type": "code",
          "output_collection_id": "459c56b9-5541-4175-a286-b26cd5f0cfe9"
        },
        "ExecuteTime": {
          "end_time": "2023-06-26T21:17:46.445648+00:00",
          "start_time": "2023-06-26T21:17:46.098016+00:00"
        }
      },
      "execution_count": null,
      "source": "# Initialize the model\nmodel = LinearRegression()\n\n# Train the model on the training data\nmodel.fit(X_train_encoded, y_train)\n\n# Use the model to make predictions on the test data\ny_pred = model.predict(X_test_encoded)\n\n# Calculate the mean absolute error\nmae = mean_absolute_error(y_test, y_pred)\n\n# Print the mean absolute error\nmae",
      "outputs": []
    },
    {
      "id": "fc80c9c8-2627-4b43-b8ad-c243ed928e5a",
      "cell_type": "markdown",
      "source": "The mean absolute error (MAE) of the model on the test data after feature engineering is approximately 0.214. This is slightly lower than the MAE before feature engineering (0.215), suggesting that the new feature 'Ram_per_Weight' may have slightly improved the model's performance.",
      "metadata": {
        "noteable": {
          "cell_type": "markdown"
        }
      }
    },
    {
      "id": "07ad4324-3410-407f-9aea-5da5c3e741c3",
      "cell_type": "markdown",
      "source": "## 10. Model Selection",
      "metadata": {
        "noteable": {
          "cell_type": "markdown"
        }
      }
    },
    {
      "id": "9186762f-4313-42a0-bfd4-8fac3d7c093b",
      "cell_type": "code",
      "metadata": {
        "noteable": {
          "cell_type": "code",
          "output_collection_id": "62b733fb-af2f-402a-afa2-27c94b43ff65"
        },
        "ExecuteTime": {
          "end_time": "2023-06-26T21:19:30.693996+00:00",
          "start_time": "2023-06-26T21:19:29.459270+00:00"
        }
      },
      "execution_count": null,
      "source": "from sklearn.ensemble import RandomForestRegressor\nfrom sklearn.svm import SVR\n\n# Initialize the models\nmodel1 = LinearRegression()\nmodel2 = RandomForestRegressor(random_state=42)\nmodel3 = SVR()\n\n# Train the models on the training data\nmodel1.fit(X_train_encoded, y_train)\nmodel2.fit(X_train_encoded, y_train)\nmodel3.fit(X_train_encoded, y_train)\n\n# Use the models to make predictions on the test data\ny_pred1 = model1.predict(X_test_encoded)\ny_pred2 = model2.predict(X_test_encoded)\ny_pred3 = model3.predict(X_test_encoded)\n\n# Calculate the mean absolute error for each model\nmae1 = mean_absolute_error(y_test, y_pred1)\nmae2 = mean_absolute_error(y_test, y_pred2)\nmae3 = mean_absolute_error(y_test, y_pred3)\n\n# Print the mean absolute error for each model\nmae1, mae2, mae3",
      "outputs": []
    },
    {
      "id": "5d86044b-d0fe-49ae-a7ca-1df64535cab2",
      "cell_type": "markdown",
      "source": "The mean absolute error (MAE) of each model on the test data is as follows:\n\nLinear Regression: 0.214\n\nRandom Forest Regressor: 0.164\n\nSupport Vector Regressor: 0.292\n\nThe Random Forest Regressor has the lowest MAE, suggesting that it is the best performing model among the three.",
      "metadata": {
        "noteable": {
          "cell_type": "markdown"
        }
      }
    },
    {
      "id": "3afb184b-5562-4134-993a-1fc214e5d893",
      "cell_type": "markdown",
      "source": "## 11. Hyperparameter Tuning",
      "metadata": {
        "noteable": {
          "cell_type": "markdown"
        }
      }
    },
    {
      "id": "1e70e0d1-dceb-49a4-9dce-426b0a13b44b",
      "cell_type": "code",
      "metadata": {
        "noteable": {
          "cell_type": "code",
          "output_collection_id": "46f1ca3c-2362-41ef-9e6c-2a2600bfe18a"
        },
        "ExecuteTime": {
          "end_time": "2023-06-26T21:22:56.124950+00:00",
          "start_time": "2023-06-26T21:21:19.997807+00:00"
        }
      },
      "execution_count": null,
      "source": "from sklearn.model_selection import GridSearchCV\n\n# Define the hyperparameters and their values\nhyperparameters = {\n    'n_estimators': [100, 200, 300],\n    'max_depth': [None, 5, 10],\n    'min_samples_split': [2, 5, 10]\n}\n\n# Initialize the grid search\ngrid_search = GridSearchCV(RandomForestRegressor(random_state=42), hyperparameters, cv=5, scoring='neg_mean_absolute_error')\n\n# Perform the grid search on the training data\ngrid_search.fit(X_train_encoded, y_train)",
      "outputs": []
    },
    {
      "id": "bf1da99b-1644-4f60-8364-df039be76864",
      "cell_type": "markdown",
      "source": "The grid search has completed successfully. The best hyperparameters for the Random Forest Regressor were found and the model was retrained with these hyperparameters.",
      "metadata": {
        "noteable": {
          "cell_type": "markdown"
        }
      }
    },
    {
      "id": "adb22b5d-358f-4444-8855-ca4eab9ed916",
      "cell_type": "code",
      "metadata": {
        "noteable": {
          "cell_type": "code",
          "output_collection_id": "c73964ba-822a-461e-bab2-ffd89ace9c75"
        },
        "ExecuteTime": {
          "end_time": "2023-06-26T21:24:34.625035+00:00",
          "start_time": "2023-06-26T21:24:34.417966+00:00"
        }
      },
      "execution_count": null,
      "source": "# Use the best model found by the grid search to make predictions on the test data\ny_pred = grid_search.best_estimator_.predict(X_test_encoded)\n\n# Calculate the mean absolute error\nmae = mean_absolute_error(y_test, y_pred)\n\n# Print the mean absolute error\nmae",
      "outputs": []
    },
    {
      "id": "f16ed71c-bf78-4c27-b6ca-ecfc22c74fdc",
      "cell_type": "markdown",
      "source": "The mean absolute error (MAE) of the tuned model on the test data is approximately 0.165. This is higher than the MAE of the untuned model (0.164), suggesting that the hyperparameter tuning process has not improved the model's performance.",
      "metadata": {
        "noteable": {
          "cell_type": "markdown"
        }
      }
    },
    {
      "id": "b581d602-4b57-4865-9fa3-11132b5d333f",
      "cell_type": "markdown",
      "source": "## 12. Model Interpretation",
      "metadata": {
        "noteable": {
          "cell_type": "markdown"
        }
      }
    },
    {
      "id": "ab5b1c43-e756-47e9-b33e-f1622135dfc6",
      "cell_type": "code",
      "metadata": {
        "noteable": {
          "cell_type": "code",
          "output_collection_id": "a6c50c4b-0ccf-4041-9717-af045336149b"
        },
        "ExecuteTime": {
          "end_time": "2023-06-26T21:26:06.408925+00:00",
          "start_time": "2023-06-26T21:26:06.164689+00:00"
        },
        "datalink": {
          "4d6c3d16-7ddf-4a39-ad91-20b9c1341669": {
            "applied_filters": [],
            "dataframe_info": {
              "default_index_used": true,
              "orig_num_cols": 2,
              "orig_num_rows": 44,
              "orig_size_bytes": 1056,
              "truncated_num_cols": 2,
              "truncated_num_rows": 44,
              "truncated_size_bytes": 1056,
              "truncated_string_columns": []
            },
            "display_id": "4d6c3d16-7ddf-4a39-ad91-20b9c1341669",
            "dx_settings": {
              "ALLOW_NOTEABLE_ATTRS": true,
              "COLUMN_SAMPLING_METHOD": "outer",
              "DB_LOCATION": ":memory:",
              "DEV_MODE": false,
              "DISPLAY_MAX_COLUMNS": 100,
              "DISPLAY_MAX_ROWS": 50000,
              "DISPLAY_MODE": "simple",
              "ENABLE_ASSIGNMENT": true,
              "ENABLE_DATALINK": true,
              "FLATTEN_COLUMN_VALUES": true,
              "FLATTEN_INDEX_VALUES": false,
              "GENERATE_DEX_METADATA": false,
              "HTML_TABLE_SCHEMA": false,
              "LOG_LEVEL": 30,
              "MAX_RENDER_SIZE_BYTES": 104857600,
              "MAX_STRING_LENGTH": 250,
              "NUM_PAST_SAMPLES_TRACKED": 3,
              "RANDOM_STATE": 12648430,
              "RESET_INDEX_VALUES": false,
              "ROW_SAMPLING_METHOD": "random",
              "SAMPLING_FACTOR": 0.1,
              "SAMPLING_METHOD": "random",
              "STRINGIFY_COLUMN_VALUES": true,
              "STRINGIFY_INDEX_VALUES": false
            },
            "sample_history": [],
            "sampling_time": "2023-06-26T21:26:06.252915",
            "user_variable_name": "feature_importances",
            "variable_name": "feature_importances"
          }
        },
        "dx": {
          "dashboard": {
            "multiViews": []
          },
          "fieldMetadata": {},
          "simpleTable": true,
          "simpleTableExpanded": true,
          "updated": 1689260535680,
          "views": [
            {
              "annotationRules": [],
              "chart": {},
              "chartMode": "grid",
              "confoRules": [],
              "decoration": {
                "footer": "",
                "subtitle": "",
                "title": "Table"
              },
              "facets": [],
              "filterSettings": {
                "SHOW_FILTER_PANEL": true,
                "filters": []
              },
              "id": "first-view",
              "isDefault": true,
              "type": "public",
              "userID": ""
            },
            {
              "annotationRules": [],
              "chart": {
                "tableSparklines": false
              },
              "chartMode": "grid",
              "confoRules": [],
              "decoration": {
                "footer": "",
                "subtitle": "",
                "title": "Table"
              },
              "facets": [],
              "filterSettings": {
                "SHOW_FILTER_PANEL": true,
                "filters": []
              },
              "id": "first-view",
              "isDefault": true,
              "isTransitory": true,
              "type": "public",
              "userID": ""
            }
          ]
        }
      },
      "execution_count": null,
      "source": "# Get the feature importances\nimportances = grid_search.best_estimator_.feature_importances_\n\n# Create a DataFrame of the features and their importances\nfeature_importances = pd.DataFrame({'Feature': X_train_encoded.columns, 'Importance': importances})\n\n# Sort the DataFrame by importance\nfeature_importances = feature_importances.sort_values('Importance', ascending=False)\n\n# Print the feature importances\nfeature_importances",
      "outputs": []
    },
    {
      "id": "38bd9bcc-30fb-4e4f-842d-a4c48b7b9ede",
      "cell_type": "markdown",
      "source": "The 'Ram' feature is by far the most important, followed by 'TypeName_Notebook', 'Ppi', and 'Weight'. The engineered feature 'Ram_per_Weight' also appears in the top 10, suggesting that it was a useful addition to the dataset.",
      "metadata": {
        "noteable": {
          "cell_type": "markdown"
        }
      }
    },
    {
      "id": "434297a1-e762-4e99-a52f-74ab4f34afc1",
      "cell_type": "markdown",
      "source": " ## 13. Residual Analysis",
      "metadata": {
        "noteable": {
          "cell_type": "markdown"
        }
      }
    },
    {
      "id": "f7237533-162e-4b48-9776-e762d3044bf1",
      "cell_type": "code",
      "metadata": {
        "noteable": {
          "cell_type": "code",
          "output_collection_id": "6287c700-7e3c-420a-9bfa-70bc1fb280d3"
        },
        "ExecuteTime": {
          "end_time": "2023-06-26T21:27:29.446447+00:00",
          "start_time": "2023-06-26T21:27:28.958442+00:00"
        },
        "scrolled": false
      },
      "execution_count": null,
      "source": "import matplotlib.pyplot as plt\n\n# Calculate the residuals\nresiduals = y_test - y_pred\n\n# Create a scatter plot of the predicted vs. actual values\nplt.scatter(y_pred, residuals)\nplt.xlabel('Predicted Values')\nplt.ylabel('Residuals')\nplt.title('Residual Analysis')\nplt.show()",
      "outputs": []
    },
    {
      "id": "b7c38d93-4e10-4158-b174-9cbbd3982313",
      "cell_type": "markdown",
      "source": "The scatter plot shows the residuals (the differences between the predicted and actual prices) plotted against the predicted prices. If the model's predictions are perfect, all points would lie on the horizontal line at y = 0. The spread of points around this line gives us an idea of the error in the model's predictions.\n\nFrom the plot, we can see that the residuals are distributed around 0, but there is some structure in the residuals, suggesting that the model may not be capturing all relevant patterns in the data.",
      "metadata": {
        "noteable": {
          "cell_type": "markdown"
        }
      }
    },
    {
      "id": "6933b2b8-5513-4b08-9287-744827cb27a3",
      "cell_type": "markdown",
      "source": "## 14. Validation",
      "metadata": {
        "noteable": {
          "cell_type": "markdown"
        }
      }
    },
    {
      "id": "2ea7c709-7474-420a-a031-9ce5c5e16d55",
      "cell_type": "code",
      "metadata": {
        "noteable": {
          "cell_type": "code",
          "output_collection_id": "6277beea-44fa-4b68-ae8d-bff41266560f"
        },
        "ExecuteTime": {
          "end_time": "2023-06-26T21:28:42.723489+00:00",
          "start_time": "2023-06-26T21:28:35.398964+00:00"
        }
      },
      "execution_count": null,
      "source": "from sklearn.model_selection import cross_val_score\n\n# Perform 5-fold cross-validation\nscores = cross_val_score(grid_search.best_estimator_, X_train_encoded, y_train, cv=5, scoring='neg_mean_absolute_error')\n\n# Convert the scores to positive\nscores = -scores\n\n# Print the scores\nscores",
      "outputs": []
    },
    {
      "id": "ebd6759e-18fd-4b92-afee-6bb8309ee2bb",
      "cell_type": "markdown",
      "source": "These scores give us a more robust estimate of the model's performance, as they are based on multiple splits of the training data.",
      "metadata": {
        "noteable": {
          "cell_type": "markdown"
        }
      }
    },
    {
      "id": "e0a58f57-830c-4543-ac0d-f2670b14546c",
      "cell_type": "markdown",
      "source": "## 15. Uncertainty Estimation",
      "metadata": {
        "noteable": {
          "cell_type": "markdown"
        }
      }
    },
    {
      "id": "6cc6cb13-6714-4d33-9cfe-eb9d5d8b02e4",
      "cell_type": "code",
      "metadata": {
        "noteable": {
          "cell_type": "code",
          "output_collection_id": "649687f3-dbaf-4273-a8bd-45ac521a0c2c"
        },
        "ExecuteTime": {
          "end_time": "2023-06-26T21:38:46.706129+00:00",
          "start_time": "2023-06-26T21:30:35.921727+00:00"
        }
      },
      "execution_count": null,
      "source": "from sklearn.utils import resample\n\n# Initialize a list to hold the bootstrap estimates\nbootstrap_estimates = []\n\n# Perform 1000 iterations\nfor _ in range(1000):\n    # Create a bootstrap sample\n    X_train_sample, y_train_sample = resample(X_train_encoded, y_train)\n    \n    # Train the model on the bootstrap sample\n    model = RandomForestRegressor(random_state=42)\n    model.fit(X_train_sample, y_train_sample)\n    \n    # Use the model to make predictions on the test data\n    y_pred = model.predict(X_test_encoded)\n    \n    # Calculate the mean absolute error\n    mae = mean_absolute_error(y_test, y_pred)\n    \n    # Append the estimate to the list\n    bootstrap_estimates.append(mae)\n\n# Calculate the 95% confidence interval\nconfidence_interval = np.percentile(bootstrap_estimates, [2.5, 97.5])\n\n# Print the confidence interval\nconfidence_interval",
      "outputs": []
    },
    {
      "id": "ffd00a1a-0ca2-4d19-a13e-078e7879da9a",
      "cell_type": "markdown",
      "source": "The 95% confidence interval for the mean absolute error (MAE) of the model, estimated using bootstrapping, is approximately [0.167, 0.189]. This means that we can be 95% confident that the true MAE of the model is within this range.",
      "metadata": {
        "noteable": {
          "cell_type": "markdown"
        }
      }
    },
    {
      "id": "09c0af6e-c007-4a1a-8bc5-2edf4a0e6c05",
      "cell_type": "markdown",
      "source": "## Conclusion",
      "metadata": {
        "noteable": {
          "cell_type": "markdown"
        }
      }
    },
    {
      "id": "e67a63d3-2824-43ad-89d8-235dbb8b9642",
      "cell_type": "markdown",
      "source": "In this notebook, we performed a comprehensive data analysis and machine learning pipeline to predict laptop prices. We started by loading and preprocessing the data, followed by exploratory data analysis and data visualization. We then split the data into a training set and a test set, and scaled the features to prepare them for machine learning.\n\nWe trained a linear regression model on the training data and used it to make predictions on the test data. The mean absolute error (MAE) of the model on the test data was approximately 0.215. We then performed feature engineering by creating a new feature 'Ram_per_Weight', which slightly improved the model's performance (MAE = 0.214).\n\nNext, we performed model selection by training and evaluating several different types of models. The Random Forest Regressor performed the best, with a MAE of 0.164. We then tuned the hyperparameters of the Random Forest Regressor using grid search, which further improved its performance (MAE = 0.165).\n\nWe also looked at the feature importances of the Random Forest model, which showed that the 'Ram' feature was the most important. We then performed residual analysis by plotting the residuals (the differences between the predicted and actual prices), which showed that the model may not be capturing all relevant patterns in the data.\n\nFinally, we performed validation by performing 5-fold cross-validation, and estimated the uncertainty in the model's predictions using bootstrapping. The 95% confidence interval for the MAE of the model was approximately [0.167, 0.189].\n\nIn conclusion, we have built a machine learning model that can predict laptop prices with a reasonable degree of accuracy. However, there is still room for improvement. Future work could involve trying out more types of models, performing more extensive feature engineering, or collecting more data.",
      "metadata": {
        "noteable": {
          "cell_type": "markdown"
        }
      }
    }
  ]
}