{
  "cells": [
    {
      "cell_type": "markdown",
      "source": [
        "# Laptop Price Prediction\n",
        "\n",
        "In this notebook, we will go through the process of analyzing and predicting laptop prices. The steps involved in the process are as follows:\n",
        "\n",
        "1. Data Loading and Preprocessing\n",
        "2. Exploratory Data Analysis\n",
        "3. Data Visualization\n",
        "4. Data Splitting\n",
        "5. Feature Scaling\n",
        "6. Model Training\n",
        "7. Price Prediction\n",
        "8. Model Evaluation\n",
        "9. Feature Engineering\n",
        "10. Model Selection\n",
        "11. Hyperparameter Tuning\n",
        "12. Model Interpretation\n",
        "13. Residual Analysis\n",
        "14. Validation\n",
        "15. Uncertainty Estimation\n",
        "\n",
        "At the end, we will conclude with a summary of our findings and the performance of our model."
      ],
      "metadata": {
        "noteable": {
          "cell_type": "markdown"
        }
      },
      "id": "9979d6b6-738a-4b73-9286-67bda276dcb3"
    },
    {
      "cell_type": "markdown",
      "source": [
        "## 1. Data Loading and Preprocessing"
      ],
      "metadata": {
        "noteable": {
          "cell_type": "markdown"
        }
      },
      "id": "44c1e1e8-040a-4cf8-b615-1ae006db0861"
    },
    {
      "cell_type": "code",
      "source": [
        "import pandas as pd\n",
        "\n",
        "# Load the data\n",
        "laptop_data = pd.read_csv('laptop_data_cleaned.csv')\n",
        "\n",
        "# Display the first few rows of the data\n",
        "laptop_data.head()"
      ],
      "outputs": [
        {
          "output_type": "display_data",
          "data": {
            "application/vnd.dataresource+json": {
              "schema": {
                "fields": [
                  {
                    "name": "index",
                    "type": "integer"
                  },
                  {
                    "name": "Company",
                    "type": "string"
                  },
                  {
                    "name": "TypeName",
                    "type": "string"
                  },
                  {
                    "name": "Ram",
                    "type": "integer"
                  },
                  {
                    "name": "Weight",
                    "type": "number"
                  },
                  {
                    "name": "Price",
                    "type": "number"
                  },
                  {
                    "name": "TouchScreen",
                    "type": "integer"
                  },
                  {
                    "name": "Ips",
                    "type": "integer"
                  },
                  {
                    "name": "Ppi",
                    "type": "number"
                  },
                  {
                    "name": "Cpu_brand",
                    "type": "string"
                  },
                  {
                    "name": "HDD",
                    "type": "integer"
                  },
                  {
                    "name": "SSD",
                    "type": "integer"
                  },
                  {
                    "name": "Gpu_brand",
                    "type": "string"
                  },
                  {
                    "name": "Os",
                    "type": "string"
                  }
                ],
                "primaryKey": [
                  "index"
                ],
                "pandas_version": "1.4.0"
              },
              "data": [
                {
                  "index": 0,
                  "Company": "Apple",
                  "TypeName": "Ultrabook",
                  "Ram": 8,
                  "Weight": 1.37,
                  "Price": 11.175754549129524,
                  "TouchScreen": 0,
                  "Ips": 1,
                  "Ppi": 226.98300468106115,
                  "Cpu_brand": "Intel Core i5",
                  "HDD": 0,
                  "SSD": 128,
                  "Gpu_brand": "Intel",
                  "Os": "Mac"
                },
                {
                  "index": 1,
                  "Company": "Apple",
                  "TypeName": "Ultrabook",
                  "Ram": 8,
                  "Weight": 1.34,
                  "Price": 10.77677731765335,
                  "TouchScreen": 0,
                  "Ips": 0,
                  "Ppi": 127.67794013309688,
                  "Cpu_brand": "Intel Core i5",
                  "HDD": 0,
                  "SSD": 0,
                  "Gpu_brand": "Intel",
                  "Os": "Mac"
                },
                {
                  "index": 2,
                  "Company": "HP",
                  "TypeName": "Notebook",
                  "Ram": 8,
                  "Weight": 1.86,
                  "Price": 10.329931067029484,
                  "TouchScreen": 0,
                  "Ips": 0,
                  "Ppi": 141.21199808219862,
                  "Cpu_brand": "Intel Core i5",
                  "HDD": 0,
                  "SSD": 256,
                  "Gpu_brand": "Intel",
                  "Os": "Others"
                },
                {
                  "index": 3,
                  "Company": "Apple",
                  "TypeName": "Ultrabook",
                  "Ram": 16,
                  "Weight": 1.83,
                  "Price": 11.814475944954545,
                  "TouchScreen": 0,
                  "Ips": 1,
                  "Ppi": 220.53462386625827,
                  "Cpu_brand": "Intel Core i7",
                  "HDD": 0,
                  "SSD": 512,
                  "Gpu_brand": "AMD",
                  "Os": "Mac"
                },
                {
                  "index": 4,
                  "Company": "Apple",
                  "TypeName": "Ultrabook",
                  "Ram": 8,
                  "Weight": 1.37,
                  "Price": 11.473100972779063,
                  "TouchScreen": 0,
                  "Ips": 1,
                  "Ppi": 226.98300468106115,
                  "Cpu_brand": "Intel Core i5",
                  "HDD": 0,
                  "SSD": 256,
                  "Gpu_brand": "Intel",
                  "Os": "Mac"
                }
              ],
              "datalink": {
                "display_id": "74da169f-3980-4a57-9760-914b78cb0df5"
              }
            }
          },
          "metadata": {
            "application/vnd.dataresource+json": {
              "datalink": {
                "dataframe_info": {
                  "default_index_used": true,
                  "orig_size_bytes": 560,
                  "orig_num_rows": 5,
                  "orig_num_cols": 13,
                  "truncated_string_columns": [],
                  "truncated_size_bytes": 560,
                  "truncated_num_rows": 5,
                  "truncated_num_cols": 13
                },
                "dx_settings": {
                  "NUM_PAST_SAMPLES_TRACKED": 3,
                  "ENABLE_DATALINK": true,
                  "DISPLAY_MODE": "simple",
                  "GENERATE_DEX_METADATA": false,
                  "STRINGIFY_INDEX_VALUES": false,
                  "ALLOW_NOTEABLE_ATTRS": true,
                  "DISPLAY_MAX_COLUMNS": 100,
                  "HTML_TABLE_SCHEMA": false,
                  "SAMPLING_FACTOR": 0.1,
                  "LOG_LEVEL": 30,
                  "ENABLE_ASSIGNMENT": true,
                  "FLATTEN_INDEX_VALUES": false,
                  "DEV_MODE": false,
                  "COLUMN_SAMPLING_METHOD": "outer",
                  "FLATTEN_COLUMN_VALUES": true,
                  "DISPLAY_MAX_ROWS": 50000,
                  "ROW_SAMPLING_METHOD": "random",
                  "RANDOM_STATE": 12648430,
                  "DB_LOCATION": ":memory:",
                  "STRINGIFY_COLUMN_VALUES": true,
                  "SAMPLING_METHOD": "random",
                  "MAX_STRING_LENGTH": 250,
                  "MAX_RENDER_SIZE_BYTES": 104857600,
                  "RESET_INDEX_VALUES": false
                },
                "display_id": "74da169f-3980-4a57-9760-914b78cb0df5",
                "applied_filters": [],
                "sample_history": [],
                "sampling_time": "2023-07-02T11:32:53.643922",
                "variable_name": "unk_dataframe_fd4887be0e434ec4bae6bc30dabb2882",
                "user_variable_name": null
              },
              "display_id": "74da169f-3980-4a57-9760-914b78cb0df5"
            }
          }
        }
      ],
      "execution_count": null,
      "metadata": {
        "noteable": {
          "cell_type": "code"
        },
        "ExecuteTime": {
          "end_time": "2023-07-02T11:32:53.802863+00:00",
          "start_time": "2023-07-02T11:32:53.578121+00:00"
        },
        "datalink": {
          "54787c03-063e-4575-83aa-aed8d23da049": {
            "applied_filters": [],
            "dataframe_info": {
              "default_index_used": true,
              "orig_num_cols": 13,
              "orig_num_rows": 5,
              "orig_size_bytes": 560,
              "truncated_num_cols": 13,
              "truncated_num_rows": 5,
              "truncated_size_bytes": 560,
              "truncated_string_columns": []
            },
            "display_id": "54787c03-063e-4575-83aa-aed8d23da049",
            "dx_settings": {
              "ALLOW_NOTEABLE_ATTRS": true,
              "COLUMN_SAMPLING_METHOD": "outer",
              "DB_LOCATION": ":memory:",
              "DEV_MODE": false,
              "DISPLAY_MAX_COLUMNS": 100,
              "DISPLAY_MAX_ROWS": 50000,
              "DISPLAY_MODE": "simple",
              "ENABLE_ASSIGNMENT": true,
              "ENABLE_DATALINK": true,
              "FLATTEN_COLUMN_VALUES": true,
              "FLATTEN_INDEX_VALUES": false,
              "GENERATE_DEX_METADATA": false,
              "HTML_TABLE_SCHEMA": false,
              "LOG_LEVEL": 30,
              "MAX_RENDER_SIZE_BYTES": 104857600,
              "MAX_STRING_LENGTH": 250,
              "NUM_PAST_SAMPLES_TRACKED": 3,
              "RANDOM_STATE": 12648430,
              "RESET_INDEX_VALUES": false,
              "ROW_SAMPLING_METHOD": "random",
              "SAMPLING_FACTOR": 0.1,
              "SAMPLING_METHOD": "random",
              "STRINGIFY_COLUMN_VALUES": true,
              "STRINGIFY_INDEX_VALUES": false
            },
            "sample_history": [],
            "sampling_time": "2023-06-26T21:02:42.238485",
            "user_variable_name": null,
            "variable_name": "unk_dataframe_a14cc43a6ed04594890cca32e937fed1"
          },
          "3848be14-cdc8-490d-9830-a629637bf477": {
            "applied_filters": [],
            "dataframe_info": {
              "default_index_used": true,
              "orig_num_cols": 13,
              "orig_num_rows": 5,
              "orig_size_bytes": 560,
              "truncated_num_cols": 13,
              "truncated_num_rows": 5,
              "truncated_size_bytes": 560,
              "truncated_string_columns": []
            },
            "display_id": "3848be14-cdc8-490d-9830-a629637bf477",
            "dx_settings": {
              "ALLOW_NOTEABLE_ATTRS": true,
              "COLUMN_SAMPLING_METHOD": "outer",
              "DB_LOCATION": ":memory:",
              "DEV_MODE": false,
              "DISPLAY_MAX_COLUMNS": 100,
              "DISPLAY_MAX_ROWS": 50000,
              "DISPLAY_MODE": "simple",
              "ENABLE_ASSIGNMENT": true,
              "ENABLE_DATALINK": true,
              "FLATTEN_COLUMN_VALUES": true,
              "FLATTEN_INDEX_VALUES": false,
              "GENERATE_DEX_METADATA": false,
              "HTML_TABLE_SCHEMA": false,
              "LOG_LEVEL": 30,
              "MAX_RENDER_SIZE_BYTES": 104857600,
              "MAX_STRING_LENGTH": 250,
              "NUM_PAST_SAMPLES_TRACKED": 3,
              "RANDOM_STATE": 12648430,
              "RESET_INDEX_VALUES": false,
              "ROW_SAMPLING_METHOD": "random",
              "SAMPLING_FACTOR": 0.1,
              "SAMPLING_METHOD": "random",
              "STRINGIFY_COLUMN_VALUES": true,
              "STRINGIFY_INDEX_VALUES": false
            },
            "sample_history": [],
            "sampling_time": "2023-06-26T22:05:15.791307",
            "user_variable_name": null,
            "variable_name": "unk_dataframe_6aa17382dc0e4436aa5a208466165a77"
          },
          "d7d8bdd9-8a99-4509-8ca3-51fa710d7b42": {
            "applied_filters": [],
            "dataframe_info": {
              "default_index_used": true,
              "orig_num_cols": 13,
              "orig_num_rows": 5,
              "orig_size_bytes": 560,
              "truncated_num_cols": 13,
              "truncated_num_rows": 5,
              "truncated_size_bytes": 560,
              "truncated_string_columns": []
            },
            "display_id": "d7d8bdd9-8a99-4509-8ca3-51fa710d7b42",
            "dx_settings": {
              "ALLOW_NOTEABLE_ATTRS": true,
              "COLUMN_SAMPLING_METHOD": "outer",
              "DB_LOCATION": ":memory:",
              "DEV_MODE": false,
              "DISPLAY_MAX_COLUMNS": 100,
              "DISPLAY_MAX_ROWS": 50000,
              "DISPLAY_MODE": "simple",
              "ENABLE_ASSIGNMENT": true,
              "ENABLE_DATALINK": true,
              "FLATTEN_COLUMN_VALUES": true,
              "FLATTEN_INDEX_VALUES": false,
              "GENERATE_DEX_METADATA": false,
              "HTML_TABLE_SCHEMA": false,
              "LOG_LEVEL": 30,
              "MAX_RENDER_SIZE_BYTES": 104857600,
              "MAX_STRING_LENGTH": 250,
              "NUM_PAST_SAMPLES_TRACKED": 3,
              "RANDOM_STATE": 12648430,
              "RESET_INDEX_VALUES": false,
              "ROW_SAMPLING_METHOD": "random",
              "SAMPLING_FACTOR": 0.1,
              "SAMPLING_METHOD": "random",
              "STRINGIFY_COLUMN_VALUES": true,
              "STRINGIFY_INDEX_VALUES": false
            },
            "sample_history": [],
            "sampling_time": "2023-06-26T22:06:29.086424",
            "user_variable_name": null,
            "variable_name": "unk_dataframe_c5c6a79a9eaf498a84f380daf4cae1cb"
          },
          "536ee0fe-df68-4562-bd2c-35158f74c6c6": {
            "applied_filters": [],
            "dataframe_info": {
              "default_index_used": true,
              "orig_num_cols": 13,
              "orig_num_rows": 5,
              "orig_size_bytes": 560,
              "truncated_num_cols": 13,
              "truncated_num_rows": 5,
              "truncated_size_bytes": 560,
              "truncated_string_columns": []
            },
            "display_id": "536ee0fe-df68-4562-bd2c-35158f74c6c6",
            "dx_settings": {
              "ALLOW_NOTEABLE_ATTRS": true,
              "COLUMN_SAMPLING_METHOD": "outer",
              "DB_LOCATION": ":memory:",
              "DEV_MODE": false,
              "DISPLAY_MAX_COLUMNS": 100,
              "DISPLAY_MAX_ROWS": 50000,
              "DISPLAY_MODE": "simple",
              "ENABLE_ASSIGNMENT": true,
              "ENABLE_DATALINK": true,
              "FLATTEN_COLUMN_VALUES": true,
              "FLATTEN_INDEX_VALUES": false,
              "GENERATE_DEX_METADATA": false,
              "HTML_TABLE_SCHEMA": false,
              "LOG_LEVEL": 30,
              "MAX_RENDER_SIZE_BYTES": 104857600,
              "MAX_STRING_LENGTH": 250,
              "NUM_PAST_SAMPLES_TRACKED": 3,
              "RANDOM_STATE": 12648430,
              "RESET_INDEX_VALUES": false,
              "ROW_SAMPLING_METHOD": "random",
              "SAMPLING_FACTOR": 0.1,
              "SAMPLING_METHOD": "random",
              "STRINGIFY_COLUMN_VALUES": true,
              "STRINGIFY_INDEX_VALUES": false
            },
            "sample_history": [],
            "sampling_time": "2023-06-29T09:20:07.844305",
            "user_variable_name": null,
            "variable_name": "unk_dataframe_af53908bee584a7a939ed67b25274d26"
          },
          "74da169f-3980-4a57-9760-914b78cb0df5": {
            "applied_filters": [],
            "dataframe_info": {
              "default_index_used": true,
              "orig_num_cols": 13,
              "orig_num_rows": 5,
              "orig_size_bytes": 560,
              "truncated_num_cols": 13,
              "truncated_num_rows": 5,
              "truncated_size_bytes": 560,
              "truncated_string_columns": []
            },
            "display_id": "74da169f-3980-4a57-9760-914b78cb0df5",
            "dx_settings": {
              "ALLOW_NOTEABLE_ATTRS": true,
              "COLUMN_SAMPLING_METHOD": "outer",
              "DB_LOCATION": ":memory:",
              "DEV_MODE": false,
              "DISPLAY_MAX_COLUMNS": 100,
              "DISPLAY_MAX_ROWS": 50000,
              "DISPLAY_MODE": "simple",
              "ENABLE_ASSIGNMENT": true,
              "ENABLE_DATALINK": true,
              "FLATTEN_COLUMN_VALUES": true,
              "FLATTEN_INDEX_VALUES": false,
              "GENERATE_DEX_METADATA": false,
              "HTML_TABLE_SCHEMA": false,
              "LOG_LEVEL": 30,
              "MAX_RENDER_SIZE_BYTES": 104857600,
              "MAX_STRING_LENGTH": 250,
              "NUM_PAST_SAMPLES_TRACKED": 3,
              "RANDOM_STATE": 12648430,
              "RESET_INDEX_VALUES": false,
              "ROW_SAMPLING_METHOD": "random",
              "SAMPLING_FACTOR": 0.1,
              "SAMPLING_METHOD": "random",
              "STRINGIFY_COLUMN_VALUES": true,
              "STRINGIFY_INDEX_VALUES": false
            },
            "sample_history": [],
            "sampling_time": "2023-07-02T11:32:53.643922",
            "user_variable_name": null,
            "variable_name": "unk_dataframe_fd4887be0e434ec4bae6bc30dabb2882"
          }
        },
        "dx": {
          "dashboard": {
            "multiViews": []
          },
          "fieldMetadata": {},
          "simpleTable": true,
          "updated": 1689259829708,
          "views": [
            {
              "annotationRules": [],
              "chart": {
                "facets": [],
                "tableSparklines": false,
                "tableStatistics": true
              },
              "chartMode": "grid",
              "confoRules": [],
              "decoration": {
                "footer": "",
                "subtitle": "",
                "title": "Table"
              },
              "facets": [],
              "filterSettings": {
                "SHOW_FILTER_PANEL": true,
                "filters": []
              },
              "id": "bbe798b3-5731-4380-a909-4015e8e129bd",
              "isComment": false,
              "isDefault": false,
              "isTransitory": false,
              "type": "public",
              "userID": ""
            }
          ]
        },
        "scrolled": false
      },
      "id": "b4109d3b-34bd-464a-8662-3bc015ef7a50"
    },
    {
      "cell_type": "code",
      "source": [
        "# Display the last few rows of the data\n",
        "laptop_data.tail()"
      ],
      "outputs": [
        {
          "output_type": "display_data",
          "data": {
            "application/vnd.dataresource+json": {
              "schema": {
                "fields": [
                  {
                    "name": "index",
                    "type": "integer"
                  },
                  {
                    "name": "Company",
                    "type": "string"
                  },
                  {
                    "name": "TypeName",
                    "type": "string"
                  },
                  {
                    "name": "Ram",
                    "type": "integer"
                  },
                  {
                    "name": "Weight",
                    "type": "number"
                  },
                  {
                    "name": "Price",
                    "type": "number"
                  },
                  {
                    "name": "TouchScreen",
                    "type": "integer"
                  },
                  {
                    "name": "Ips",
                    "type": "integer"
                  },
                  {
                    "name": "Ppi",
                    "type": "number"
                  },
                  {
                    "name": "Cpu_brand",
                    "type": "string"
                  },
                  {
                    "name": "HDD",
                    "type": "integer"
                  },
                  {
                    "name": "SSD",
                    "type": "integer"
                  },
                  {
                    "name": "Gpu_brand",
                    "type": "string"
                  },
                  {
                    "name": "Os",
                    "type": "string"
                  }
                ],
                "primaryKey": [
                  "index"
                ],
                "pandas_version": "1.4.0"
              },
              "data": [
                {
                  "index": 1268,
                  "Company": "Asus",
                  "TypeName": "Notebook",
                  "Ram": 4,
                  "Weight": 2.2,
                  "Price": 10.5552565839505,
                  "TouchScreen": 0,
                  "Ips": 0,
                  "Ppi": 100.45466986113652,
                  "Cpu_brand": "Intel Core i7",
                  "HDD": 500,
                  "SSD": 0,
                  "Gpu_brand": "Nvidia",
                  "Os": "Windows"
                },
                {
                  "index": 1269,
                  "Company": "Lenovo",
                  "TypeName": "2 in 1 Convertible",
                  "Ram": 4,
                  "Weight": 1.8,
                  "Price": 10.433899309576924,
                  "TouchScreen": 1,
                  "Ips": 1,
                  "Ppi": 157.3505121487356,
                  "Cpu_brand": "Intel Core i7",
                  "HDD": 0,
                  "SSD": 128,
                  "Gpu_brand": "Intel",
                  "Os": "Windows"
                },
                {
                  "index": 1270,
                  "Company": "Lenovo",
                  "TypeName": "2 in 1 Convertible",
                  "Ram": 16,
                  "Weight": 1.3,
                  "Price": 11.288114524334732,
                  "TouchScreen": 1,
                  "Ips": 1,
                  "Ppi": 276.053530085501,
                  "Cpu_brand": "Intel Core i7",
                  "HDD": 0,
                  "SSD": 512,
                  "Gpu_brand": "Intel",
                  "Os": "Windows"
                },
                {
                  "index": 1271,
                  "Company": "Lenovo",
                  "TypeName": "Notebook",
                  "Ram": 2,
                  "Weight": 1.5,
                  "Price": 9.409283029786373,
                  "TouchScreen": 0,
                  "Ips": 0,
                  "Ppi": 111.93520355955212,
                  "Cpu_brand": "Other Intel Processor",
                  "HDD": 0,
                  "SSD": 0,
                  "Gpu_brand": "Intel",
                  "Os": "Windows"
                },
                {
                  "index": 1272,
                  "Company": "HP",
                  "TypeName": "Notebook",
                  "Ram": 6,
                  "Weight": 2.19,
                  "Price": 10.614128815398654,
                  "TouchScreen": 0,
                  "Ips": 0,
                  "Ppi": 100.45466986113652,
                  "Cpu_brand": "Intel Core i7",
                  "HDD": 1000,
                  "SSD": 0,
                  "Gpu_brand": "AMD",
                  "Os": "Windows"
                }
              ],
              "datalink": {
                "display_id": "bb8ff0a0-3074-46e0-ad1d-9fe5a0b450cb"
              }
            }
          },
          "metadata": {
            "application/vnd.dataresource+json": {
              "datalink": {
                "dataframe_info": {
                  "default_index_used": true,
                  "orig_size_bytes": 560,
                  "orig_num_rows": 5,
                  "orig_num_cols": 13,
                  "truncated_string_columns": [],
                  "truncated_size_bytes": 560,
                  "truncated_num_rows": 5,
                  "truncated_num_cols": 13
                },
                "dx_settings": {
                  "NUM_PAST_SAMPLES_TRACKED": 3,
                  "ENABLE_DATALINK": true,
                  "DISPLAY_MODE": "simple",
                  "GENERATE_DEX_METADATA": false,
                  "STRINGIFY_INDEX_VALUES": false,
                  "ALLOW_NOTEABLE_ATTRS": true,
                  "DISPLAY_MAX_COLUMNS": 100,
                  "HTML_TABLE_SCHEMA": false,
                  "SAMPLING_FACTOR": 0.1,
                  "LOG_LEVEL": 30,
                  "ENABLE_ASSIGNMENT": true,
                  "FLATTEN_INDEX_VALUES": false,
                  "DEV_MODE": false,
                  "COLUMN_SAMPLING_METHOD": "outer",
                  "FLATTEN_COLUMN_VALUES": true,
                  "DISPLAY_MAX_ROWS": 50000,
                  "ROW_SAMPLING_METHOD": "random",
                  "RANDOM_STATE": 12648430,
                  "DB_LOCATION": ":memory:",
                  "STRINGIFY_COLUMN_VALUES": true,
                  "SAMPLING_METHOD": "random",
                  "MAX_STRING_LENGTH": 250,
                  "MAX_RENDER_SIZE_BYTES": 104857600,
                  "RESET_INDEX_VALUES": false
                },
                "display_id": "bb8ff0a0-3074-46e0-ad1d-9fe5a0b450cb",
                "applied_filters": [],
                "sample_history": [],
                "sampling_time": "2023-06-29T09:21:29.842809",
                "variable_name": "unk_dataframe_0ca7d76b6e034c30afc83ae5169a81d1",
                "user_variable_name": null
              },
              "display_id": "bb8ff0a0-3074-46e0-ad1d-9fe5a0b450cb"
            }
          }
        }
      ],
      "execution_count": null,
      "metadata": {
        "jupyter": {
          "outputs_hidden": false,
          "source_hidden": false
        },
        "noteable": {
          "cell_type": "code"
        },
        "ExecuteTime": {
          "end_time": "2023-06-29T09:21:30.002008+00:00",
          "start_time": "2023-06-29T09:21:29.780328+00:00"
        },
        "datalink": {
          "bb8ff0a0-3074-46e0-ad1d-9fe5a0b450cb": {
            "applied_filters": [],
            "dataframe_info": {
              "default_index_used": true,
              "orig_num_cols": 13,
              "orig_num_rows": 5,
              "orig_size_bytes": 560,
              "truncated_num_cols": 13,
              "truncated_num_rows": 5,
              "truncated_size_bytes": 560,
              "truncated_string_columns": []
            },
            "display_id": "bb8ff0a0-3074-46e0-ad1d-9fe5a0b450cb",
            "dx_settings": {
              "ALLOW_NOTEABLE_ATTRS": true,
              "COLUMN_SAMPLING_METHOD": "outer",
              "DB_LOCATION": ":memory:",
              "DEV_MODE": false,
              "DISPLAY_MAX_COLUMNS": 100,
              "DISPLAY_MAX_ROWS": 50000,
              "DISPLAY_MODE": "simple",
              "ENABLE_ASSIGNMENT": true,
              "ENABLE_DATALINK": true,
              "FLATTEN_COLUMN_VALUES": true,
              "FLATTEN_INDEX_VALUES": false,
              "GENERATE_DEX_METADATA": false,
              "HTML_TABLE_SCHEMA": false,
              "LOG_LEVEL": 30,
              "MAX_RENDER_SIZE_BYTES": 104857600,
              "MAX_STRING_LENGTH": 250,
              "NUM_PAST_SAMPLES_TRACKED": 3,
              "RANDOM_STATE": 12648430,
              "RESET_INDEX_VALUES": false,
              "ROW_SAMPLING_METHOD": "random",
              "SAMPLING_FACTOR": 0.1,
              "SAMPLING_METHOD": "random",
              "STRINGIFY_COLUMN_VALUES": true,
              "STRINGIFY_INDEX_VALUES": false
            },
            "sample_history": [],
            "sampling_time": "2023-06-29T09:21:29.842809",
            "user_variable_name": null,
            "variable_name": "unk_dataframe_0ca7d76b6e034c30afc83ae5169a81d1"
          }
        },
        "scrolled": false,
        "dx": {
          "dashboard": {
            "multiViews": []
          },
          "fieldMetadata": {},
          "simpleTable": true,
          "updated": 1689260466970,
          "views": [
            {
              "annotationRules": [],
              "chart": {},
              "chartMode": "grid",
              "confoRules": [],
              "decoration": {
                "footer": "",
                "subtitle": "",
                "title": "Table"
              },
              "facets": [],
              "filterSettings": {
                "SHOW_FILTER_PANEL": true,
                "filters": []
              },
              "id": "first-view",
              "isDefault": true,
              "type": "public",
              "userID": ""
            },
            {
              "annotationRules": [],
              "chart": {
                "tableSparklines": false
              },
              "chartMode": "grid",
              "confoRules": [],
              "decoration": {
                "footer": "",
                "subtitle": "",
                "title": "Table"
              },
              "facets": [],
              "filterSettings": {
                "SHOW_FILTER_PANEL": true,
                "filters": []
              },
              "id": "first-view",
              "isDefault": true,
              "isTransitory": true,
              "type": "public",
              "userID": ""
            }
          ]
        }
      },
      "id": "16759b64-54ea-4f48-801e-d6ded326f454"
    },
    {
      "cell_type": "code",
      "source": [
        "# Provides a summary of the DataFrame\n",
        "laptop_data.info()"
      ],
      "outputs": [
        {
          "output_type": "stream",
          "name": "stdout",
          "text": [
            "<class 'pandas.core.frame.DataFrame'>\n",
            "RangeIndex: 1273 entries, 0 to 1272\n",
            "Data columns (total 13 columns):\n",
            " #   Column       Non-Null Count  Dtype  \n",
            "---  ------       --------------  -----  \n",
            " 0   Company      1273 non-null   object \n",
            " 1   TypeName     1273 non-null   object \n",
            " 2   Ram          1273 non-null   int64  \n",
            " 3   Weight       1273 non-null   float64\n",
            " 4   Price        1273 non-null   float64\n",
            " 5   TouchScreen  1273 non-null   int64  \n",
            " 6   Ips          1273 non-null   int64  \n",
            " 7   Ppi          1273 non-null   float64\n",
            " 8   Cpu_brand    1273 non-null   object \n",
            " 9   HDD          1273 non-null   int64  \n",
            " 10  SSD          1273 non-null   int64  \n",
            " 11  Gpu_brand    1273 non-null   object \n",
            " 12  Os           1273 non-null   object \n",
            "dtypes: float64(3), int64(5), object(5)\n",
            "memory usage: 129.4+ KB\n"
          ]
        }
      ],
      "execution_count": null,
      "metadata": {
        "jupyter": {
          "outputs_hidden": false,
          "source_hidden": false
        },
        "noteable": {
          "cell_type": "code"
        },
        "ExecuteTime": {
          "end_time": "2023-06-29T09:22:54.900633+00:00",
          "start_time": "2023-06-29T09:22:54.733090+00:00"
        },
        "scrolled": true
      },
      "id": "1f603865-a3f4-45b9-abdc-0c4bedd770f3"
    },
    {
      "cell_type": "markdown",
      "source": [
        "The dataset does not contain any missing values."
      ],
      "metadata": {
        "noteable": {
          "cell_type": "markdown"
        }
      },
      "id": "66c4cbd7-925a-4aef-b491-6764813eefcb"
    },
    {
      "cell_type": "code",
      "source": [
        "laptop_data.shape"
      ],
      "outputs": [
        {
          "output_type": "execute_result",
          "execution_count": null,
          "data": {
            "text/plain": "(1273, 13)"
          },
          "metadata": {}
        }
      ],
      "execution_count": null,
      "metadata": {
        "jupyter": {
          "outputs_hidden": false,
          "source_hidden": false
        },
        "noteable": {
          "cell_type": "code"
        },
        "ExecuteTime": {
          "end_time": "2023-06-29T09:26:13.294511+00:00",
          "start_time": "2023-06-29T09:26:13.133701+00:00"
        }
      },
      "id": "f0e680b7-0fb5-4dac-a746-3260331e03e0"
    },
    {
      "cell_type": "markdown",
      "source": [
        "## 2. Exploratory Data Analysis"
      ],
      "metadata": {
        "noteable": {
          "cell_type": "markdown"
        }
      },
      "id": "e6268c1b-d8f0-4316-8bf7-ed3cda949e91"
    },
    {
      "cell_type": "code",
      "source": [
        "# Summary statistics\n",
        "laptop_data.describe(include='all')"
      ],
      "outputs": [
        {
          "output_type": "display_data",
          "data": {
            "application/vnd.dataresource+json": {
              "schema": {
                "fields": [
                  {
                    "name": "index",
                    "type": "string"
                  },
                  {
                    "name": "Company",
                    "type": "string"
                  },
                  {
                    "name": "TypeName",
                    "type": "string"
                  },
                  {
                    "name": "Ram",
                    "type": "number"
                  },
                  {
                    "name": "Weight",
                    "type": "number"
                  },
                  {
                    "name": "Price",
                    "type": "number"
                  },
                  {
                    "name": "TouchScreen",
                    "type": "number"
                  },
                  {
                    "name": "Ips",
                    "type": "number"
                  },
                  {
                    "name": "Ppi",
                    "type": "number"
                  },
                  {
                    "name": "Cpu_brand",
                    "type": "string"
                  },
                  {
                    "name": "HDD",
                    "type": "number"
                  },
                  {
                    "name": "SSD",
                    "type": "number"
                  },
                  {
                    "name": "Gpu_brand",
                    "type": "string"
                  },
                  {
                    "name": "Os",
                    "type": "string"
                  }
                ],
                "primaryKey": [
                  "index"
                ],
                "pandas_version": "1.4.0"
              },
              "data": [
                {
                  "index": "count",
                  "Company": "1273",
                  "TypeName": "1273",
                  "Ram": 1273,
                  "Weight": 1273,
                  "Price": 1273,
                  "TouchScreen": 1273,
                  "Ips": 1273,
                  "Ppi": 1273,
                  "Cpu_brand": "1273",
                  "HDD": 1273,
                  "SSD": 1273,
                  "Gpu_brand": "1273",
                  "Os": "1273"
                },
                {
                  "index": "unique",
                  "Company": "19",
                  "TypeName": "6",
                  "Ram": null,
                  "Weight": null,
                  "Price": null,
                  "TouchScreen": null,
                  "Ips": null,
                  "Ppi": null,
                  "Cpu_brand": "5",
                  "HDD": null,
                  "SSD": null,
                  "Gpu_brand": "3",
                  "Os": "3"
                },
                {
                  "index": "top",
                  "Company": "Dell",
                  "TypeName": "Notebook",
                  "Ram": null,
                  "Weight": null,
                  "Price": null,
                  "TouchScreen": null,
                  "Ips": null,
                  "Ppi": null,
                  "Cpu_brand": "Intel Core i7",
                  "HDD": null,
                  "SSD": null,
                  "Gpu_brand": "Intel",
                  "Os": "Windows"
                },
                {
                  "index": "freq",
                  "Company": "291",
                  "TypeName": "706",
                  "Ram": null,
                  "Weight": null,
                  "Price": null,
                  "TouchScreen": null,
                  "Ips": null,
                  "Ppi": null,
                  "Cpu_brand": "515",
                  "HDD": null,
                  "SSD": null,
                  "Gpu_brand": "703",
                  "Os": "1100"
                },
                {
                  "index": "mean",
                  "Company": "nan",
                  "TypeName": "nan",
                  "Ram": 8.447761194029852,
                  "Weight": 2.041099764336214,
                  "Price": 10.828218230869608,
                  "TouchScreen": 0.14689709347996857,
                  "Ips": 0.27965435978004716,
                  "Ppi": 146.95081224719442,
                  "Cpu_brand": "nan",
                  "HDD": 413.71563236449333,
                  "SSD": 186.25294579732915,
                  "Gpu_brand": "nan",
                  "Os": "nan"
                },
                {
                  "index": "std",
                  "Company": "nan",
                  "TypeName": "nan",
                  "Ram": 5.098770979625904,
                  "Weight": 0.6692410621861031,
                  "Price": 0.6195650221746963,
                  "TouchScreen": 0.3541424263098301,
                  "Ips": 0.4490057569197662,
                  "Ppi": 42.92677535578149,
                  "Cpu_brand": "nan",
                  "HDD": 518.0544860514303,
                  "SSD": 186.53157149150894,
                  "Gpu_brand": "nan",
                  "Os": "nan"
                },
                {
                  "index": "min",
                  "Company": "nan",
                  "TypeName": "nan",
                  "Ram": 2,
                  "Weight": 0.69,
                  "Price": 9.134616325446665,
                  "TouchScreen": 0,
                  "Ips": 0,
                  "Ppi": 90.58340172449304,
                  "Cpu_brand": "nan",
                  "HDD": 0,
                  "SSD": 0,
                  "Gpu_brand": "nan",
                  "Os": "nan"
                },
                {
                  "index": "25%",
                  "Company": "nan",
                  "TypeName": "nan",
                  "Ram": 4,
                  "Weight": 1.5,
                  "Price": 10.38737929394203,
                  "TouchScreen": 0,
                  "Ips": 0,
                  "Ppi": 127.33567457123112,
                  "Cpu_brand": "nan",
                  "HDD": 0,
                  "SSD": 0,
                  "Gpu_brand": "nan",
                  "Os": "nan"
                },
                {
                  "index": "50%",
                  "Company": "nan",
                  "TypeName": "nan",
                  "Ram": 8,
                  "Weight": 2.04,
                  "Price": 10.872255357854844,
                  "TouchScreen": 0,
                  "Ips": 0,
                  "Ppi": 141.21199808219862,
                  "Cpu_brand": "nan",
                  "HDD": 0,
                  "SSD": 256,
                  "Gpu_brand": "nan",
                  "Os": "nan"
                },
                {
                  "index": "75%",
                  "Company": "nan",
                  "TypeName": "nan",
                  "Ram": 8,
                  "Weight": 2.31,
                  "Price": 11.2874471903093,
                  "TouchScreen": 0,
                  "Ips": 1,
                  "Ppi": 157.3505121487356,
                  "Cpu_brand": "nan",
                  "HDD": 1000,
                  "SSD": 256,
                  "Gpu_brand": "nan",
                  "Os": "nan"
                },
                {
                  "index": "max",
                  "Company": "nan",
                  "TypeName": "nan",
                  "Ram": 64,
                  "Weight": 4.7,
                  "Price": 12.69144112852859,
                  "TouchScreen": 1,
                  "Ips": 1,
                  "Ppi": 352.4651472131677,
                  "Cpu_brand": "nan",
                  "HDD": 2000,
                  "SSD": 1024,
                  "Gpu_brand": "nan",
                  "Os": "nan"
                }
              ],
              "datalink": {
                "display_id": "78cc551b-6bff-4f85-ae1a-ec72b9c8c3ba"
              }
            }
          },
          "metadata": {
            "application/vnd.dataresource+json": {
              "datalink": {
                "dataframe_info": {
                  "default_index_used": false,
                  "orig_size_bytes": 1232,
                  "orig_num_rows": 11,
                  "orig_num_cols": 13,
                  "truncated_string_columns": [],
                  "truncated_size_bytes": 1232,
                  "truncated_num_rows": 11,
                  "truncated_num_cols": 13
                },
                "dx_settings": {
                  "NUM_PAST_SAMPLES_TRACKED": 3,
                  "ENABLE_DATALINK": true,
                  "DISPLAY_MODE": "simple",
                  "GENERATE_DEX_METADATA": false,
                  "STRINGIFY_INDEX_VALUES": false,
                  "ALLOW_NOTEABLE_ATTRS": true,
                  "DISPLAY_MAX_COLUMNS": 100,
                  "HTML_TABLE_SCHEMA": false,
                  "SAMPLING_FACTOR": 0.1,
                  "LOG_LEVEL": 30,
                  "ENABLE_ASSIGNMENT": true,
                  "FLATTEN_INDEX_VALUES": false,
                  "DEV_MODE": false,
                  "COLUMN_SAMPLING_METHOD": "outer",
                  "FLATTEN_COLUMN_VALUES": true,
                  "DISPLAY_MAX_ROWS": 50000,
                  "ROW_SAMPLING_METHOD": "random",
                  "RANDOM_STATE": 12648430,
                  "DB_LOCATION": ":memory:",
                  "STRINGIFY_COLUMN_VALUES": true,
                  "SAMPLING_METHOD": "random",
                  "MAX_STRING_LENGTH": 250,
                  "MAX_RENDER_SIZE_BYTES": 104857600,
                  "RESET_INDEX_VALUES": false
                },
                "display_id": "78cc551b-6bff-4f85-ae1a-ec72b9c8c3ba",
                "applied_filters": [],
                "sample_history": [],
                "sampling_time": "2023-06-26T21:04:49.586737",
                "variable_name": "unk_dataframe_3e0d5a2353f3481caacc1e161418ff53",
                "user_variable_name": null
              },
              "display_id": "78cc551b-6bff-4f85-ae1a-ec72b9c8c3ba"
            }
          }
        }
      ],
      "execution_count": null,
      "metadata": {
        "noteable": {
          "cell_type": "code"
        },
        "ExecuteTime": {
          "end_time": "2023-06-26T21:04:49.745950+00:00",
          "start_time": "2023-06-26T21:04:49.482581+00:00"
        },
        "datalink": {
          "78cc551b-6bff-4f85-ae1a-ec72b9c8c3ba": {
            "applied_filters": [],
            "dataframe_info": {
              "default_index_used": false,
              "orig_num_cols": 13,
              "orig_num_rows": 11,
              "orig_size_bytes": 1232,
              "truncated_num_cols": 13,
              "truncated_num_rows": 11,
              "truncated_size_bytes": 1232,
              "truncated_string_columns": []
            },
            "display_id": "78cc551b-6bff-4f85-ae1a-ec72b9c8c3ba",
            "dx_settings": {
              "ALLOW_NOTEABLE_ATTRS": true,
              "COLUMN_SAMPLING_METHOD": "outer",
              "DB_LOCATION": ":memory:",
              "DEV_MODE": false,
              "DISPLAY_MAX_COLUMNS": 100,
              "DISPLAY_MAX_ROWS": 50000,
              "DISPLAY_MODE": "simple",
              "ENABLE_ASSIGNMENT": true,
              "ENABLE_DATALINK": true,
              "FLATTEN_COLUMN_VALUES": true,
              "FLATTEN_INDEX_VALUES": false,
              "GENERATE_DEX_METADATA": false,
              "HTML_TABLE_SCHEMA": false,
              "LOG_LEVEL": 30,
              "MAX_RENDER_SIZE_BYTES": 104857600,
              "MAX_STRING_LENGTH": 250,
              "NUM_PAST_SAMPLES_TRACKED": 3,
              "RANDOM_STATE": 12648430,
              "RESET_INDEX_VALUES": false,
              "ROW_SAMPLING_METHOD": "random",
              "SAMPLING_FACTOR": 0.1,
              "SAMPLING_METHOD": "random",
              "STRINGIFY_COLUMN_VALUES": true,
              "STRINGIFY_INDEX_VALUES": false
            },
            "sample_history": [],
            "sampling_time": "2023-06-26T21:04:49.586737",
            "user_variable_name": null,
            "variable_name": "unk_dataframe_3e0d5a2353f3481caacc1e161418ff53"
          }
        },
        "dx": {
          "dashboard": {
            "multiViews": []
          },
          "fieldMetadata": {},
          "simpleTable": true,
          "simpleTableExpanded": true,
          "updated": 1689260499664,
          "views": [
            {
              "annotationRules": [],
              "chart": {},
              "chartMode": "grid",
              "confoRules": [],
              "decoration": {
                "footer": "",
                "subtitle": "",
                "title": "Table"
              },
              "facets": [],
              "filterSettings": {
                "SHOW_FILTER_PANEL": true,
                "filters": []
              },
              "id": "first-view",
              "isDefault": true,
              "type": "public",
              "userID": ""
            },
            {
              "annotationRules": [],
              "chart": {
                "tableSparklines": false
              },
              "chartMode": "grid",
              "confoRules": [],
              "decoration": {
                "footer": "",
                "subtitle": "",
                "title": "Table"
              },
              "facets": [],
              "filterSettings": {
                "SHOW_FILTER_PANEL": true,
                "filters": []
              },
              "id": "first-view",
              "isDefault": true,
              "isTransitory": true,
              "type": "public",
              "userID": ""
            }
          ]
        }
      },
      "id": "27a639fd-453e-43a8-a300-d2bec781ca85"
    },
    {
      "cell_type": "markdown",
      "source": [
        "## 3. Data Visualization"
      ],
      "metadata": {
        "noteable": {
          "cell_type": "markdown"
        }
      },
      "id": "1106e8b9-83e5-4e8b-baec-4b298be77597"
    },
    {
      "cell_type": "code",
      "source": [
        "import matplotlib.pyplot as plt\n",
        "\n",
        "# Plotting the distribution of Price\n",
        "plt.figure(figsize=(10, 6))\n",
        "plt.hist(laptop_data['Price'], bins=30, color='blue', alpha=0.7)\n",
        "plt.title('Distribution of Laptop Prices')\n",
        "plt.xlabel('Price')\n",
        "plt.ylabel('Frequency')\n",
        "plt.show()"
      ],
      "outputs": [
        {
          "output_type": "display_data",
          "data": {
            "image/png": "[encoded data removed]"
          },
          "metadata": {}
        }
      ],
      "execution_count": null,
      "metadata": {
        "noteable": {
          "cell_type": "code"
        },
        "ExecuteTime": {
          "end_time": "2023-07-02T11:34:40.104728+00:00",
          "start_time": "2023-07-02T11:34:39.636391+00:00"
        },
        "tags": [
          "show_line_numbers"
        ]
      },
      "id": "6040f749-287c-46c7-b1cd-7ecfd066e179"
    },
    {
      "cell_type": "markdown",
      "source": [
        "       Here is the histogram showing the distribution of laptop prices."
      ],
      "metadata": {
        "noteable": {
          "cell_type": "markdown"
        }
      },
      "id": "cd4a00aa-e528-4800-8d07-ae6f8414bb32"
    },
    {
      "cell_type": "code",
      "source": [
        "# Scatter plot of Weight vs Price\n",
        "plt.figure(figsize=(10, 6))\n",
        "plt.scatter(laptop_data['Weight'], laptop_data['Price'], color='blue', alpha=0.7)\n",
        "plt.title('Weight vs Price')\n",
        "plt.xlabel('Weight')\n",
        "plt.ylabel('Price')\n",
        "plt.show()"
      ],
      "outputs": [
        {
          "output_type": "display_data",
          "data": {
            "image/png": "[encoded data removed]"
          },
          "metadata": {}
        }
      ],
      "execution_count": null,
      "metadata": {
        "noteable": {
          "cell_type": "code"
        },
        "ExecuteTime": {
          "end_time": "2023-06-26T21:07:25.694548+00:00",
          "start_time": "2023-06-26T21:07:25.242145+00:00"
        },
        "scrolled": true
      },
      "id": "72fdbd92-6659-47b3-955c-4444aa03bc34"
    },
    {
      "cell_type": "markdown",
      "source": [
        "       Here is the scatter plot showing the relationship between the weight of the laptop and its price."
      ],
      "metadata": {
        "noteable": {
          "cell_type": "markdown"
        }
      },
      "id": "c6b8d3a9-38f6-4eef-a0cd-98ebdd7a3106"
    },
    {
      "cell_type": "markdown",
      "source": [
        "## 4. Data Splitting"
      ],
      "metadata": {
        "noteable": {
          "cell_type": "markdown"
        }
      },
      "id": "963cb645-37d2-4ace-ad17-87862dbbad98"
    },
    {
      "cell_type": "code",
      "source": [
        "from sklearn.model_selection import train_test_split\n",
        "\n",
        "# Define our features and target\n",
        "X = laptop_data.drop('Price', axis=1)\n",
        "y = laptop_data['Price']\n",
        "\n",
        "# Split the data into training and test sets\n",
        "X_train, X_test, y_train, y_test = train_test_split(X, y, test_size=0.2, random_state=42)\n",
        "\n",
        "# Check the size of the training and test sets\n",
        "len(X_train), len(X_test)"
      ],
      "outputs": [
        {
          "output_type": "execute_result",
          "execution_count": null,
          "data": {
            "text/plain": "(1018, 255)"
          },
          "metadata": {}
        }
      ],
      "execution_count": null,
      "metadata": {
        "noteable": {
          "cell_type": "code"
        },
        "ExecuteTime": {
          "end_time": "2023-06-26T21:08:33.992627+00:00",
          "start_time": "2023-06-26T21:08:33.497397+00:00"
        }
      },
      "id": "ed4d6ac8-8e70-4e90-bfed-5dddacf81324"
    },
    {
      "cell_type": "markdown",
      "source": [
        "The data has been successfully split into a training set and a test set. The training set contains 1018 samples, and the test set contains 255 samples."
      ],
      "metadata": {
        "noteable": {
          "cell_type": "markdown"
        }
      },
      "id": "39da22ea-da99-49b1-a033-175f12ab7e20"
    },
    {
      "cell_type": "markdown",
      "source": [
        "## 5. Feature Scaling"
      ],
      "metadata": {
        "noteable": {
          "cell_type": "markdown"
        }
      },
      "id": "ee5f71ec-f7fd-413e-a26e-d95f72cf46e0"
    },
    {
      "cell_type": "code",
      "source": [
        "# Combine the training and test sets\n",
        "combined_data = pd.concat([X_train, X_test])\n",
        "\n",
        "# One-hot encode the combined data\n",
        "combined_data_encoded = pd.get_dummies(combined_data)\n",
        "\n",
        "# Split the encoded data back into a training set and a test set\n",
        "X_train_encoded = combined_data_encoded.loc[X_train.index]\n",
        "X_test_encoded = combined_data_encoded.loc[X_test.index]\n",
        "\n",
        "# Initialize the scaler\n",
        "scaler = StandardScaler()\n",
        "\n",
        "# Fit the scaler to the training data\n",
        "scaler.fit(X_train_encoded)\n",
        "\n",
        "# Transform the training and test data\n",
        "X_train_scaled = scaler.transform(X_train_encoded)\n",
        "X_test_scaled = scaler.transform(X_test_encoded)\n",
        "\n",
        "# Check the transformed data\n",
        "X_train_scaled, X_test_scaled"
      ],
      "outputs": [
        {
          "output_type": "execute_result",
          "execution_count": null,
          "data": {
            "text/plain": "(array([[-0.09515399,  0.40042557, -0.41244993, ..., -0.13416408,\n         -0.36382592,  0.39434136],\n        [-0.09515399, -1.39675382, -0.41244993, ..., -0.13416408,\n         -0.36382592,  0.39434136],\n        [-0.86700066, -0.43825814,  2.42453673, ..., -0.13416408,\n         -0.36382592,  0.39434136],\n        ...,\n        [-0.09515399,  0.01103671, -0.41244993, ..., -0.13416408,\n         -0.36382592,  0.39434136],\n        [-0.09515399,  0.40042557, -0.41244993, ..., -0.13416408,\n         -0.36382592,  0.39434136],\n        [-0.86700066, -2.01079011,  2.42453673, ..., -0.13416408,\n         -0.36382592,  0.39434136]]),\n array([[-0.86700066,  0.25066062, -0.41244993, ..., -0.13416408,\n         -0.36382592,  0.39434136],\n        [-0.09515399, -0.49816412, -0.41244993, ..., -0.13416408,\n         -0.36382592,  0.39434136],\n        [ 1.44853936,  1.14925032, -0.41244993, ..., -0.13416408,\n         -0.36382592,  0.39434136],\n        ...,\n        [ 1.44853936,  3.24595961, -0.41244993, ..., -0.13416408,\n         -0.36382592,  0.39434136],\n        [ 1.44853936, -1.21703588,  2.42453673, ..., -0.13416408,\n         -0.36382592,  0.39434136],\n        [ 1.44853936,  0.69995547, -0.41244993, ..., -0.13416408,\n         -0.36382592,  0.39434136]]))"
          },
          "metadata": {}
        }
      ],
      "execution_count": null,
      "metadata": {
        "noteable": {
          "cell_type": "code"
        },
        "ExecuteTime": {
          "end_time": "2023-06-26T21:11:42.887513+00:00",
          "start_time": "2023-06-26T21:11:42.706871+00:00"
        },
        "scrolled": true
      },
      "id": "97a92505-dab5-40d5-9e1b-51853f00e957"
    },
    {
      "cell_type": "markdown",
      "source": [
        "The feature scaling process was successful. The training and test data have been transformed to have a mean of 0 and a standard deviation of 1. This will ensure that all features have the same scale, which can help improve the performance of many machine learning algorithms."
      ],
      "metadata": {
        "noteable": {
          "cell_type": "markdown"
        }
      },
      "id": "1c952a65-4c27-4dd1-80ec-078970a1d1c7"
    },
    {
      "cell_type": "markdown",
      "source": [
        "## 6. Model Training"
      ],
      "metadata": {
        "noteable": {
          "cell_type": "markdown"
        }
      },
      "id": "61d6eac7-a45b-4753-adc6-70140d019acd"
    },
    {
      "cell_type": "code",
      "source": [
        "from sklearn.linear_model import LinearRegression\n",
        "\n",
        "# Initialize the model\n",
        "model = LinearRegression()\n",
        "\n",
        "# Train the model on the training data\n",
        "model.fit(X_train_scaled, y_train)"
      ],
      "outputs": [
        {
          "output_type": "execute_result",
          "execution_count": null,
          "data": {
            "text/html": "<style>#sk-container-id-1 {color: black;background-color: white;}#sk-container-id-1 pre{padding: 0;}#sk-container-id-1 div.sk-toggleable {background-color: white;}#sk-container-id-1 label.sk-toggleable__label {cursor: pointer;display: block;width: 100%;margin-bottom: 0;padding: 0.3em;box-sizing: border-box;text-align: center;}#sk-container-id-1 label.sk-toggleable__label-arrow:before {content: \"▸\";float: left;margin-right: 0.25em;color: #696969;}#sk-container-id-1 label.sk-toggleable__label-arrow:hover:before {color: black;}#sk-container-id-1 div.sk-estimator:hover label.sk-toggleable__label-arrow:before {color: black;}#sk-container-id-1 div.sk-toggleable__content {max-height: 0;max-width: 0;overflow: hidden;text-align: left;background-color: #f0f8ff;}#sk-container-id-1 div.sk-toggleable__content pre {margin: 0.2em;color: black;border-radius: 0.25em;background-color: #f0f8ff;}#sk-container-id-1 input.sk-toggleable__control:checked~div.sk-toggleable__content {max-height: 200px;max-width: 100%;overflow: auto;}#sk-container-id-1 input.sk-toggleable__control:checked~label.sk-toggleable__label-arrow:before {content: \"▾\";}#sk-container-id-1 div.sk-estimator input.sk-toggleable__control:checked~label.sk-toggleable__label {background-color: #d4ebff;}#sk-container-id-1 div.sk-label input.sk-toggleable__control:checked~label.sk-toggleable__label {background-color: #d4ebff;}#sk-container-id-1 input.sk-hidden--visually {border: 0;clip: rect(1px 1px 1px 1px);clip: rect(1px, 1px, 1px, 1px);height: 1px;margin: -1px;overflow: hidden;padding: 0;position: absolute;width: 1px;}#sk-container-id-1 div.sk-estimator {font-family: monospace;background-color: #f0f8ff;border: 1px dotted black;border-radius: 0.25em;box-sizing: border-box;margin-bottom: 0.5em;}#sk-container-id-1 div.sk-estimator:hover {background-color: #d4ebff;}#sk-container-id-1 div.sk-parallel-item::after {content: \"\";width: 100%;border-bottom: 1px solid gray;flex-grow: 1;}#sk-container-id-1 div.sk-label:hover label.sk-toggleable__label {background-color: #d4ebff;}#sk-container-id-1 div.sk-serial::before {content: \"\";position: absolute;border-left: 1px solid gray;box-sizing: border-box;top: 0;bottom: 0;left: 50%;z-index: 0;}#sk-container-id-1 div.sk-serial {display: flex;flex-direction: column;align-items: center;background-color: white;padding-right: 0.2em;padding-left: 0.2em;position: relative;}#sk-container-id-1 div.sk-item {position: relative;z-index: 1;}#sk-container-id-1 div.sk-parallel {display: flex;align-items: stretch;justify-content: center;background-color: white;position: relative;}#sk-container-id-1 div.sk-item::before, #sk-container-id-1 div.sk-parallel-item::before {content: \"\";position: absolute;border-left: 1px solid gray;box-sizing: border-box;top: 0;bottom: 0;left: 50%;z-index: -1;}#sk-container-id-1 div.sk-parallel-item {display: flex;flex-direction: column;z-index: 1;position: relative;background-color: white;}#sk-container-id-1 div.sk-parallel-item:first-child::after {align-self: flex-end;width: 50%;}#sk-container-id-1 div.sk-parallel-item:last-child::after {align-self: flex-start;width: 50%;}#sk-container-id-1 div.sk-parallel-item:only-child::after {width: 0;}#sk-container-id-1 div.sk-dashed-wrapped {border: 1px dashed gray;margin: 0 0.4em 0.5em 0.4em;box-sizing: border-box;padding-bottom: 0.4em;background-color: white;}#sk-container-id-1 div.sk-label label {font-family: monospace;font-weight: bold;display: inline-block;line-height: 1.2em;}#sk-container-id-1 div.sk-label-container {text-align: center;}#sk-container-id-1 div.sk-container {/* jupyter's `normalize.less` sets `[hidden] { display: none; }` but bootstrap.min.css set `[hidden] { display: none !important; }` so we also need the `!important` here to be able to override the default hidden behavior on the sphinx rendered scikit-learn.org. See: https://github.com/scikit-learn/scikit-learn/issues/21755 */display: inline-block !important;position: relative;}#sk-container-id-1 div.sk-text-repr-fallback {display: none;}</style><div id=\"sk-container-id-1\" class=\"sk-top-container\"><div class=\"sk-text-repr-fallback\"><pre>LinearRegression()</pre><b>In a Jupyter environment, please rerun this cell to show the HTML representation or trust the notebook. <br />On GitHub, the HTML representation is unable to render, please try loading this page with nbviewer.org.</b></div><div class=\"sk-container\" hidden><div class=\"sk-item\"><div class=\"sk-estimator sk-toggleable\"><input class=\"sk-toggleable__control sk-hidden--visually\" id=\"sk-estimator-id-1\" type=\"checkbox\" checked><label for=\"sk-estimator-id-1\" class=\"sk-toggleable__label sk-toggleable__label-arrow\">LinearRegression</label><div class=\"sk-toggleable__content\"><pre>LinearRegression()</pre></div></div></div></div></div>"
          },
          "metadata": {}
        }
      ],
      "execution_count": null,
      "metadata": {
        "noteable": {
          "cell_type": "code"
        },
        "ExecuteTime": {
          "end_time": "2023-06-26T21:12:50.644363+00:00",
          "start_time": "2023-06-26T21:12:50.348664+00:00"
        }
      },
      "id": "208bff9d-07c1-4b7e-811c-63e05abafd87"
    },
    {
      "cell_type": "markdown",
      "source": [
        "The model has been trained successfully. The Linear Regression model is now ready to make predictions on the test data."
      ],
      "metadata": {
        "noteable": {
          "cell_type": "markdown"
        }
      },
      "id": "b25b5751-907f-41d2-adc2-07ed587eae42"
    },
    {
      "cell_type": "markdown",
      "source": [
        "## 7. Price Prediction"
      ],
      "metadata": {
        "noteable": {
          "cell_type": "markdown"
        }
      },
      "id": "e843c5c9-f3bb-450e-8c29-9a9ef66a5bec"
    },
    {
      "cell_type": "code",
      "source": [
        "# Use the model to make predictions on the test data\n",
        "y_pred = model.predict(X_test_scaled)\n",
        "\n",
        "# Check the predicted prices\n",
        "y_pred"
      ],
      "outputs": [
        {
          "output_type": "execute_result",
          "execution_count": null,
          "data": {
            "text/plain": "array([10.64949934, 11.17116587, 11.04490702, 11.42626039, 11.12639372,\n       11.16795198,  9.93721144, 10.04369776, 10.99946348, 11.91976778,\n       10.80402796, 10.83155958, 11.04169981, 10.43536798, 11.34690992,\n       11.31614916, 11.27254907,  9.99725668, 11.34872286, 11.26789705,\n        9.94811766, 10.81297342, 10.77122251, 11.32626097, 10.09285776,\n       11.32742159, 10.39855615, 10.78473036, 10.89244406, 10.91643659,\n       11.0803198 , 11.10132353, 10.24745409, 10.44309275, 11.1911873 ,\n       10.58307306, 10.73668043, 10.86405603, 11.47962801, 10.12960855,\n       10.19458238, 11.49939577, 11.15379183, 11.23041002, 10.33935968,\n       11.1437277 , 11.28896944, 10.22468225, 10.9505171 , 10.79536192,\n       10.55766146, 11.20388643, 11.12686674, 10.02708952, 10.96347467,\n       10.75838129, 10.98777525, 10.35925142, 10.98503725, 12.8575577 ,\n       11.81586496, 10.88114874, 10.75314085,  9.92990248, 11.33706133,\n       10.57400934, 10.07301752, 10.57321874, 10.66113798, 10.86251776,\n       11.63468973, 10.19132654, 11.59814875, 10.89485018, 10.15996782,\n       11.4671921 , 10.86740629, 11.39226381, 10.18812219, 10.93637697,\n       10.98869078, 10.65909235, 10.13804285,  9.98833029, 10.51730387,\n       11.42312471, 10.62006895, 10.67252867, 10.45433466, 10.7469372 ,\n       11.33421175, 10.98100702, 11.12573854, 10.88925878, 10.73493425,\n       10.73226492, 11.37096254,  9.84608213, 11.20882551, 11.20522539,\n       10.3591942 , 11.37729875, 11.13632719,  9.95552198, 10.59928266,\n       11.04519312, 10.65696661, 10.42930929, 10.93165342, 10.80720465,\n       11.08500425, 10.36102907, 11.04491941, 11.45282595, 10.79966871,\n       10.78402464,  9.92164461, 11.38464205, 11.04488222,  9.77495233,\n       11.13540689, 11.2931389 , 10.00403253, 10.78180258, 10.9102358 ,\n        9.92501871, 11.2427191 , 10.85174314, 11.50028841, 10.55019323,\n       11.08438722, 10.99141447, 11.67335359, 10.93103449, 11.6623749 ,\n       10.41924135, 10.61372892, 11.34799425, 10.61916487,  9.98956816,\n       10.34051935, 11.17194025, 10.46758978, 10.89551107, 11.23939554,\n        9.95672933, 11.1703581 , 10.53656046, 10.00154821, 10.41931192,\n       10.84746496, 11.2611603 , 10.82669775, 10.64505903, 10.91195146,\n       11.99088518, 10.30604975, 11.32616178,  9.9176325 , 10.23091642,\n       10.0579838 , 10.35723535, 10.8910803 , 10.42469828, 10.66803495,\n       10.92335169,  9.78237573, 11.04740278,  9.53024618, 11.4840378 ,\n       10.4796261 , 10.82377474, 10.64490835, 11.7301697 ,  9.80908625,\n       11.71547548, 11.1055731 , 10.55398981, 10.89120237, 11.1939768 ,\n       11.0273451 , 11.10791532, 10.4167618 , 10.83959047, 10.94479982,\n        9.91077463, 10.25114099, 11.15507261, 10.22569982, 11.10782949,\n       10.26164667, 10.5262293 , 11.03881781,  9.63473932, 11.09981386,\n       11.8339142 , 12.38072435, 12.07481996, 10.42203943, 10.30786363,\n       11.54187052,  9.94735662, 10.97707216, 10.04343836, 11.55394594,\n       11.37787477, 11.71969454, 10.32062952, 10.03638403, 10.1740307 ,\n        9.91453211, 10.55895178, 11.73609011, 10.77842085, 10.38304369,\n       10.28107492, 11.31115476, 10.92357389, 11.33975069, 10.67049734,\n       11.43352358, 10.29432718, 10.88427107, 10.97795526, 11.08317415,\n       10.96821253, 10.33037989, 11.24024813, 11.18500273, 11.57458345,\n       10.15970842, 10.67643015, 10.88729994, 10.75283758, 11.06010286,\n       10.235413  , 10.97970716, 11.04054396, 10.59403459, 10.06444589,\n       11.43503229,  9.94371645, 11.51634066, 11.46212236, 10.42277567,\n       11.4380707 , 10.20755998,  9.84920923, 11.01347868,  9.58213465,\n       10.47179834, 10.28677027, 11.32743399, 11.70920126, 11.37665884])"
          },
          "metadata": {}
        }
      ],
      "execution_count": null,
      "metadata": {
        "noteable": {
          "cell_type": "code"
        },
        "ExecuteTime": {
          "end_time": "2023-06-26T21:13:58.045145+00:00",
          "start_time": "2023-06-26T21:13:57.871905+00:00"
        }
      },
      "id": "b50f8635-a5f9-4660-9437-32730c946938"
    },
    {
      "cell_type": "markdown",
      "source": [
        "The model has successfully made predictions on the test data. These predictions are in the form of an array of predicted laptop prices."
      ],
      "metadata": {
        "noteable": {
          "cell_type": "markdown"
        }
      },
      "id": "c10ed485-1a9b-4598-86e1-468a72d2d4ae"
    },
    {
      "cell_type": "markdown",
      "source": [
        "## 8. Model Evaluation"
      ],
      "metadata": {
        "noteable": {
          "cell_type": "markdown"
        }
      },
      "id": "f1c20c4c-9dae-41ac-b38b-43795e7a6ee1"
    },
    {
      "cell_type": "code",
      "source": [
        "from sklearn.metrics import mean_absolute_error\n",
        "\n",
        "# Calculate the mean absolute error\n",
        "mae = mean_absolute_error(y_test, y_pred)\n",
        "\n",
        "# Print the mean absolute error\n",
        "mae"
      ],
      "outputs": [
        {
          "output_type": "execute_result",
          "execution_count": null,
          "data": {
            "text/plain": "0.2151762562177748"
          },
          "metadata": {}
        }
      ],
      "execution_count": null,
      "metadata": {
        "noteable": {
          "cell_type": "code"
        },
        "ExecuteTime": {
          "end_time": "2023-06-26T21:15:25.451148+00:00",
          "start_time": "2023-06-26T21:15:25.291966+00:00"
        }
      },
      "id": "82f9f170-6e22-4273-9a86-b9e4f60ab1a1"
    },
    {
      "cell_type": "markdown",
      "source": [
        "The mean absolute error (MAE) of the model on the test data is approximately 0.215. This means that on average, the model's predictions are about 0.215 units away from the actual prices."
      ],
      "metadata": {
        "noteable": {
          "cell_type": "markdown"
        }
      },
      "id": "e3cdee73-b37a-4c78-8a2b-e50effda9ed5"
    },
    {
      "cell_type": "markdown",
      "source": [
        "## 9. Feature Engineering"
      ],
      "metadata": {
        "noteable": {
          "cell_type": "markdown"
        }
      },
      "id": "f9d55a6b-b005-4219-857f-8925b77f0fda"
    },
    {
      "cell_type": "code",
      "source": [
        "# Create a new feature 'Ram_per_Weight' which is the ratio of Ram to Weight\n",
        "combined_data_encoded['Ram_per_Weight'] = combined_data_encoded['Ram'] / combined_data_encoded['Weight']\n",
        "\n",
        "# Split the encoded data back into a training set and a test set\n",
        "X_train_encoded = combined_data_encoded.loc[X_train.index]\n",
        "X_test_encoded = combined_data_encoded.loc[X_test.index]\n",
        "\n",
        "# Check the new feature\n",
        "X_train_encoded['Ram_per_Weight'].head()"
      ],
      "outputs": [
        {
          "output_type": "display_data",
          "data": {
            "application/vnd.dataresource+json": {
              "schema": {
                "fields": [
                  {
                    "name": "index",
                    "type": "integer"
                  },
                  {
                    "name": "Ram_per_Weight",
                    "type": "number"
                  }
                ],
                "primaryKey": [
                  "index"
                ],
                "pandas_version": "1.4.0"
              },
              "data": [
                {
                  "index": 490,
                  "Ram_per_Weight": 3.4782608695652177
                },
                {
                  "index": 405,
                  "Ram_per_Weight": 7.2727272727272725
                },
                {
                  "index": 156,
                  "Ram_per_Weight": 2.2988505747126435
                },
                {
                  "index": 650,
                  "Ram_per_Weight": 8.421052631578947
                },
                {
                  "index": 770,
                  "Ram_per_Weight": 6.9565217391304355
                }
              ],
              "datalink": {
                "display_id": "8f8178e3-78a9-4af1-aea2-34a6d5d060c9"
              }
            }
          },
          "metadata": {
            "application/vnd.dataresource+json": {
              "datalink": {
                "dataframe_info": {
                  "default_index_used": true,
                  "orig_size_bytes": 80,
                  "orig_num_rows": 5,
                  "orig_num_cols": 1,
                  "truncated_string_columns": [],
                  "truncated_size_bytes": 80,
                  "truncated_num_rows": 5,
                  "truncated_num_cols": 1
                },
                "dx_settings": {
                  "NUM_PAST_SAMPLES_TRACKED": 3,
                  "ENABLE_DATALINK": true,
                  "DISPLAY_MODE": "simple",
                  "GENERATE_DEX_METADATA": false,
                  "STRINGIFY_INDEX_VALUES": false,
                  "ALLOW_NOTEABLE_ATTRS": true,
                  "DISPLAY_MAX_COLUMNS": 100,
                  "HTML_TABLE_SCHEMA": false,
                  "SAMPLING_FACTOR": 0.1,
                  "LOG_LEVEL": 30,
                  "ENABLE_ASSIGNMENT": true,
                  "FLATTEN_INDEX_VALUES": false,
                  "DEV_MODE": false,
                  "COLUMN_SAMPLING_METHOD": "outer",
                  "FLATTEN_COLUMN_VALUES": true,
                  "DISPLAY_MAX_ROWS": 50000,
                  "ROW_SAMPLING_METHOD": "random",
                  "RANDOM_STATE": 12648430,
                  "DB_LOCATION": ":memory:",
                  "STRINGIFY_COLUMN_VALUES": true,
                  "SAMPLING_METHOD": "random",
                  "MAX_STRING_LENGTH": 250,
                  "MAX_RENDER_SIZE_BYTES": 104857600,
                  "RESET_INDEX_VALUES": false
                },
                "display_id": "8f8178e3-78a9-4af1-aea2-34a6d5d060c9",
                "applied_filters": [],
                "sample_history": [],
                "sampling_time": "2023-06-26T21:16:26.538522",
                "variable_name": "unk_dataframe_db2ac794e96e4d37945e24801dbc5283",
                "user_variable_name": null
              },
              "display_id": "8f8178e3-78a9-4af1-aea2-34a6d5d060c9"
            }
          }
        }
      ],
      "execution_count": null,
      "metadata": {
        "noteable": {
          "cell_type": "code"
        },
        "ExecuteTime": {
          "end_time": "2023-06-26T21:16:26.693972+00:00",
          "start_time": "2023-06-26T21:16:26.497996+00:00"
        },
        "datalink": {
          "8f8178e3-78a9-4af1-aea2-34a6d5d060c9": {
            "applied_filters": [],
            "dataframe_info": {
              "default_index_used": true,
              "orig_num_cols": 1,
              "orig_num_rows": 5,
              "orig_size_bytes": 80,
              "truncated_num_cols": 1,
              "truncated_num_rows": 5,
              "truncated_size_bytes": 80,
              "truncated_string_columns": []
            },
            "display_id": "8f8178e3-78a9-4af1-aea2-34a6d5d060c9",
            "dx_settings": {
              "ALLOW_NOTEABLE_ATTRS": true,
              "COLUMN_SAMPLING_METHOD": "outer",
              "DB_LOCATION": ":memory:",
              "DEV_MODE": false,
              "DISPLAY_MAX_COLUMNS": 100,
              "DISPLAY_MAX_ROWS": 50000,
              "DISPLAY_MODE": "simple",
              "ENABLE_ASSIGNMENT": true,
              "ENABLE_DATALINK": true,
              "FLATTEN_COLUMN_VALUES": true,
              "FLATTEN_INDEX_VALUES": false,
              "GENERATE_DEX_METADATA": false,
              "HTML_TABLE_SCHEMA": false,
              "LOG_LEVEL": 30,
              "MAX_RENDER_SIZE_BYTES": 104857600,
              "MAX_STRING_LENGTH": 250,
              "NUM_PAST_SAMPLES_TRACKED": 3,
              "RANDOM_STATE": 12648430,
              "RESET_INDEX_VALUES": false,
              "ROW_SAMPLING_METHOD": "random",
              "SAMPLING_FACTOR": 0.1,
              "SAMPLING_METHOD": "random",
              "STRINGIFY_COLUMN_VALUES": true,
              "STRINGIFY_INDEX_VALUES": false
            },
            "sample_history": [],
            "sampling_time": "2023-06-26T21:16:26.538522",
            "user_variable_name": null,
            "variable_name": "unk_dataframe_db2ac794e96e4d37945e24801dbc5283"
          }
        },
        "dx": {
          "dashboard": {
            "multiViews": []
          },
          "fieldMetadata": {},
          "simpleTable": true,
          "updated": 1689260526832,
          "views": [
            {
              "annotationRules": [],
              "chart": {},
              "chartMode": "grid",
              "confoRules": [],
              "decoration": {
                "footer": "",
                "subtitle": "",
                "title": "Table"
              },
              "facets": [],
              "filterSettings": {
                "SHOW_FILTER_PANEL": true,
                "filters": []
              },
              "id": "first-view",
              "isDefault": true,
              "type": "public",
              "userID": ""
            },
            {
              "annotationRules": [],
              "chart": {
                "tableSparklines": false
              },
              "chartMode": "grid",
              "confoRules": [],
              "decoration": {
                "footer": "",
                "subtitle": "",
                "title": "Table"
              },
              "facets": [],
              "filterSettings": {
                "SHOW_FILTER_PANEL": true,
                "filters": []
              },
              "id": "first-view",
              "isDefault": true,
              "isTransitory": true,
              "type": "public",
              "userID": ""
            }
          ]
        }
      },
      "id": "6be785ac-ff83-4396-a669-a536263e25ac"
    },
    {
      "cell_type": "markdown",
      "source": [
        "We have successfully created a new feature 'Ram_per_Weight', which is the ratio of Ram to Weight. Here are the first few values of this new feature in the training set."
      ],
      "metadata": {
        "noteable": {
          "cell_type": "markdown"
        }
      },
      "id": "d53de7da-3013-4c45-bd88-f306b4a5262d"
    },
    {
      "cell_type": "code",
      "source": [
        "# Initialize the model\n",
        "model = LinearRegression()\n",
        "\n",
        "# Train the model on the training data\n",
        "model.fit(X_train_encoded, y_train)\n",
        "\n",
        "# Use the model to make predictions on the test data\n",
        "y_pred = model.predict(X_test_encoded)\n",
        "\n",
        "# Calculate the mean absolute error\n",
        "mae = mean_absolute_error(y_test, y_pred)\n",
        "\n",
        "# Print the mean absolute error\n",
        "mae"
      ],
      "outputs": [
        {
          "output_type": "execute_result",
          "execution_count": null,
          "data": {
            "text/plain": "0.2136121865339871"
          },
          "metadata": {}
        }
      ],
      "execution_count": null,
      "metadata": {
        "noteable": {
          "cell_type": "code"
        },
        "ExecuteTime": {
          "end_time": "2023-06-26T21:17:46.445648+00:00",
          "start_time": "2023-06-26T21:17:46.098016+00:00"
        }
      },
      "id": "0db7de15-db0a-4861-9730-0235a1058403"
    },
    {
      "cell_type": "markdown",
      "source": [
        "The mean absolute error (MAE) of the model on the test data after feature engineering is approximately 0.214. This is slightly lower than the MAE before feature engineering (0.215), suggesting that the new feature 'Ram_per_Weight' may have slightly improved the model's performance."
      ],
      "metadata": {
        "noteable": {
          "cell_type": "markdown"
        }
      },
      "id": "fc80c9c8-2627-4b43-b8ad-c243ed928e5a"
    },
    {
      "cell_type": "markdown",
      "source": [
        "## 10. Model Selection"
      ],
      "metadata": {
        "noteable": {
          "cell_type": "markdown"
        }
      },
      "id": "07ad4324-3410-407f-9aea-5da5c3e741c3"
    },
    {
      "cell_type": "code",
      "source": [
        "from sklearn.ensemble import RandomForestRegressor\n",
        "from sklearn.svm import SVR\n",
        "\n",
        "# Initialize the models\n",
        "model1 = LinearRegression()\n",
        "model2 = RandomForestRegressor(random_state=42)\n",
        "model3 = SVR()\n",
        "\n",
        "# Train the models on the training data\n",
        "model1.fit(X_train_encoded, y_train)\n",
        "model2.fit(X_train_encoded, y_train)\n",
        "model3.fit(X_train_encoded, y_train)\n",
        "\n",
        "# Use the models to make predictions on the test data\n",
        "y_pred1 = model1.predict(X_test_encoded)\n",
        "y_pred2 = model2.predict(X_test_encoded)\n",
        "y_pred3 = model3.predict(X_test_encoded)\n",
        "\n",
        "# Calculate the mean absolute error for each model\n",
        "mae1 = mean_absolute_error(y_test, y_pred1)\n",
        "mae2 = mean_absolute_error(y_test, y_pred2)\n",
        "mae3 = mean_absolute_error(y_test, y_pred3)\n",
        "\n",
        "# Print the mean absolute error for each model\n",
        "mae1, mae2, mae3"
      ],
      "outputs": [
        {
          "output_type": "execute_result",
          "execution_count": null,
          "data": {
            "text/plain": "(0.2136121865339871, 0.1638017287072435, 0.2916094453377771)"
          },
          "metadata": {}
        }
      ],
      "execution_count": null,
      "metadata": {
        "noteable": {
          "cell_type": "code"
        },
        "ExecuteTime": {
          "end_time": "2023-06-26T21:19:30.693996+00:00",
          "start_time": "2023-06-26T21:19:29.459270+00:00"
        }
      },
      "id": "9186762f-4313-42a0-bfd4-8fac3d7c093b"
    },
    {
      "cell_type": "markdown",
      "source": [
        "The mean absolute error (MAE) of each model on the test data is as follows:\n",
        "\n",
        "Linear Regression: 0.214\n",
        "\n",
        "Random Forest Regressor: 0.164\n",
        "\n",
        "Support Vector Regressor: 0.292\n",
        "\n",
        "The Random Forest Regressor has the lowest MAE, suggesting that it is the best performing model among the three."
      ],
      "metadata": {
        "noteable": {
          "cell_type": "markdown"
        }
      },
      "id": "5d86044b-d0fe-49ae-a7ca-1df64535cab2"
    },
    {
      "cell_type": "markdown",
      "source": [
        "## 11. Hyperparameter Tuning"
      ],
      "metadata": {
        "noteable": {
          "cell_type": "markdown"
        }
      },
      "id": "3afb184b-5562-4134-993a-1fc214e5d893"
    },
    {
      "cell_type": "code",
      "source": [
        "from sklearn.model_selection import GridSearchCV\n",
        "\n",
        "# Define the hyperparameters and their values\n",
        "hyperparameters = {\n",
        "    'n_estimators': [100, 200, 300],\n",
        "    'max_depth': [None, 5, 10],\n",
        "    'min_samples_split': [2, 5, 10]\n",
        "}\n",
        "\n",
        "# Initialize the grid search\n",
        "grid_search = GridSearchCV(RandomForestRegressor(random_state=42), hyperparameters, cv=5, scoring='neg_mean_absolute_error')\n",
        "\n",
        "# Perform the grid search on the training data\n",
        "grid_search.fit(X_train_encoded, y_train)"
      ],
      "outputs": [
        {
          "output_type": "execute_result",
          "execution_count": null,
          "data": {
            "text/html": "<style>#sk-container-id-2 {color: black;background-color: white;}#sk-container-id-2 pre{padding: 0;}#sk-container-id-2 div.sk-toggleable {background-color: white;}#sk-container-id-2 label.sk-toggleable__label {cursor: pointer;display: block;width: 100%;margin-bottom: 0;padding: 0.3em;box-sizing: border-box;text-align: center;}#sk-container-id-2 label.sk-toggleable__label-arrow:before {content: \"▸\";float: left;margin-right: 0.25em;color: #696969;}#sk-container-id-2 label.sk-toggleable__label-arrow:hover:before {color: black;}#sk-container-id-2 div.sk-estimator:hover label.sk-toggleable__label-arrow:before {color: black;}#sk-container-id-2 div.sk-toggleable__content {max-height: 0;max-width: 0;overflow: hidden;text-align: left;background-color: #f0f8ff;}#sk-container-id-2 div.sk-toggleable__content pre {margin: 0.2em;color: black;border-radius: 0.25em;background-color: #f0f8ff;}#sk-container-id-2 input.sk-toggleable__control:checked~div.sk-toggleable__content {max-height: 200px;max-width: 100%;overflow: auto;}#sk-container-id-2 input.sk-toggleable__control:checked~label.sk-toggleable__label-arrow:before {content: \"▾\";}#sk-container-id-2 div.sk-estimator input.sk-toggleable__control:checked~label.sk-toggleable__label {background-color: #d4ebff;}#sk-container-id-2 div.sk-label input.sk-toggleable__control:checked~label.sk-toggleable__label {background-color: #d4ebff;}#sk-container-id-2 input.sk-hidden--visually {border: 0;clip: rect(1px 1px 1px 1px);clip: rect(1px, 1px, 1px, 1px);height: 1px;margin: -1px;overflow: hidden;padding: 0;position: absolute;width: 1px;}#sk-container-id-2 div.sk-estimator {font-family: monospace;background-color: #f0f8ff;border: 1px dotted black;border-radius: 0.25em;box-sizing: border-box;margin-bottom: 0.5em;}#sk-container-id-2 div.sk-estimator:hover {background-color: #d4ebff;}#sk-container-id-2 div.sk-parallel-item::after {content: \"\";width: 100%;border-bottom: 1px solid gray;flex-grow: 1;}#sk-container-id-2 div.sk-label:hover label.sk-toggleable__label {background-color: #d4ebff;}#sk-container-id-2 div.sk-serial::before {content: \"\";position: absolute;border-left: 1px solid gray;box-sizing: border-box;top: 0;bottom: 0;left: 50%;z-index: 0;}#sk-container-id-2 div.sk-serial {display: flex;flex-direction: column;align-items: center;background-color: white;padding-right: 0.2em;padding-left: 0.2em;position: relative;}#sk-container-id-2 div.sk-item {position: relative;z-index: 1;}#sk-container-id-2 div.sk-parallel {display: flex;align-items: stretch;justify-content: center;background-color: white;position: relative;}#sk-container-id-2 div.sk-item::before, #sk-container-id-2 div.sk-parallel-item::before {content: \"\";position: absolute;border-left: 1px solid gray;box-sizing: border-box;top: 0;bottom: 0;left: 50%;z-index: -1;}#sk-container-id-2 div.sk-parallel-item {display: flex;flex-direction: column;z-index: 1;position: relative;background-color: white;}#sk-container-id-2 div.sk-parallel-item:first-child::after {align-self: flex-end;width: 50%;}#sk-container-id-2 div.sk-parallel-item:last-child::after {align-self: flex-start;width: 50%;}#sk-container-id-2 div.sk-parallel-item:only-child::after {width: 0;}#sk-container-id-2 div.sk-dashed-wrapped {border: 1px dashed gray;margin: 0 0.4em 0.5em 0.4em;box-sizing: border-box;padding-bottom: 0.4em;background-color: white;}#sk-container-id-2 div.sk-label label {font-family: monospace;font-weight: bold;display: inline-block;line-height: 1.2em;}#sk-container-id-2 div.sk-label-container {text-align: center;}#sk-container-id-2 div.sk-container {/* jupyter's `normalize.less` sets `[hidden] { display: none; }` but bootstrap.min.css set `[hidden] { display: none !important; }` so we also need the `!important` here to be able to override the default hidden behavior on the sphinx rendered scikit-learn.org. See: https://github.com/scikit-learn/scikit-learn/issues/21755 */display: inline-block !important;position: relative;}#sk-container-id-2 div.sk-text-repr-fallback {display: none;}</style><div id=\"sk-container-id-2\" class=\"sk-top-container\"><div class=\"sk-text-repr-fallback\"><pre>GridSearchCV(cv=5, estimator=RandomForestRegressor(random_state=42),\n             param_grid={&#x27;max_depth&#x27;: [None, 5, 10],\n                         &#x27;min_samples_split&#x27;: [2, 5, 10],\n                         &#x27;n_estimators&#x27;: [100, 200, 300]},\n             scoring=&#x27;neg_mean_absolute_error&#x27;)</pre><b>In a Jupyter environment, please rerun this cell to show the HTML representation or trust the notebook. <br />On GitHub, the HTML representation is unable to render, please try loading this page with nbviewer.org.</b></div><div class=\"sk-container\" hidden><div class=\"sk-item sk-dashed-wrapped\"><div class=\"sk-label-container\"><div class=\"sk-label sk-toggleable\"><input class=\"sk-toggleable__control sk-hidden--visually\" id=\"sk-estimator-id-2\" type=\"checkbox\" ><label for=\"sk-estimator-id-2\" class=\"sk-toggleable__label sk-toggleable__label-arrow\">GridSearchCV</label><div class=\"sk-toggleable__content\"><pre>GridSearchCV(cv=5, estimator=RandomForestRegressor(random_state=42),\n             param_grid={&#x27;max_depth&#x27;: [None, 5, 10],\n                         &#x27;min_samples_split&#x27;: [2, 5, 10],\n                         &#x27;n_estimators&#x27;: [100, 200, 300]},\n             scoring=&#x27;neg_mean_absolute_error&#x27;)</pre></div></div></div><div class=\"sk-parallel\"><div class=\"sk-parallel-item\"><div class=\"sk-item\"><div class=\"sk-label-container\"><div class=\"sk-label sk-toggleable\"><input class=\"sk-toggleable__control sk-hidden--visually\" id=\"sk-estimator-id-3\" type=\"checkbox\" ><label for=\"sk-estimator-id-3\" class=\"sk-toggleable__label sk-toggleable__label-arrow\">estimator: RandomForestRegressor</label><div class=\"sk-toggleable__content\"><pre>RandomForestRegressor(random_state=42)</pre></div></div></div><div class=\"sk-serial\"><div class=\"sk-item\"><div class=\"sk-estimator sk-toggleable\"><input class=\"sk-toggleable__control sk-hidden--visually\" id=\"sk-estimator-id-4\" type=\"checkbox\" ><label for=\"sk-estimator-id-4\" class=\"sk-toggleable__label sk-toggleable__label-arrow\">RandomForestRegressor</label><div class=\"sk-toggleable__content\"><pre>RandomForestRegressor(random_state=42)</pre></div></div></div></div></div></div></div></div></div></div>"
          },
          "metadata": {}
        }
      ],
      "execution_count": null,
      "metadata": {
        "noteable": {
          "cell_type": "code"
        },
        "ExecuteTime": {
          "end_time": "2023-06-26T21:22:56.124950+00:00",
          "start_time": "2023-06-26T21:21:19.997807+00:00"
        }
      },
      "id": "1e70e0d1-dceb-49a4-9dce-426b0a13b44b"
    },
    {
      "cell_type": "markdown",
      "source": [
        "The grid search has completed successfully. The best hyperparameters for the Random Forest Regressor were found and the model was retrained with these hyperparameters."
      ],
      "metadata": {
        "noteable": {
          "cell_type": "markdown"
        }
      },
      "id": "bf1da99b-1644-4f60-8364-df039be76864"
    },
    {
      "cell_type": "code",
      "source": [
        "# Use the best model found by the grid search to make predictions on the test data\n",
        "y_pred = grid_search.best_estimator_.predict(X_test_encoded)\n",
        "\n",
        "# Calculate the mean absolute error\n",
        "mae = mean_absolute_error(y_test, y_pred)\n",
        "\n",
        "# Print the mean absolute error\n",
        "mae"
      ],
      "outputs": [
        {
          "output_type": "execute_result",
          "execution_count": null,
          "data": {
            "text/plain": "0.16453728088498643"
          },
          "metadata": {}
        }
      ],
      "execution_count": null,
      "metadata": {
        "noteable": {
          "cell_type": "code"
        },
        "ExecuteTime": {
          "end_time": "2023-06-26T21:24:34.625035+00:00",
          "start_time": "2023-06-26T21:24:34.417966+00:00"
        }
      },
      "id": "adb22b5d-358f-4444-8855-ca4eab9ed916"
    },
    {
      "cell_type": "markdown",
      "source": [
        "The mean absolute error (MAE) of the tuned model on the test data is approximately 0.165. This is higher than the MAE of the untuned model (0.164), suggesting that the hyperparameter tuning process has not improved the model's performance."
      ],
      "metadata": {
        "noteable": {
          "cell_type": "markdown"
        }
      },
      "id": "f16ed71c-bf78-4c27-b6ca-ecfc22c74fdc"
    },
    {
      "cell_type": "markdown",
      "source": [
        "## 12. Model Interpretation"
      ],
      "metadata": {
        "noteable": {
          "cell_type": "markdown"
        }
      },
      "id": "b581d602-4b57-4865-9fa3-11132b5d333f"
    },
    {
      "cell_type": "code",
      "source": [
        "# Get the feature importances\n",
        "importances = grid_search.best_estimator_.feature_importances_\n",
        "\n",
        "# Create a DataFrame of the features and their importances\n",
        "feature_importances = pd.DataFrame({'Feature': X_train_encoded.columns, 'Importance': importances})\n",
        "\n",
        "# Sort the DataFrame by importance\n",
        "feature_importances = feature_importances.sort_values('Importance', ascending=False)\n",
        "\n",
        "# Print the feature importances\n",
        "feature_importances"
      ],
      "outputs": [
        {
          "output_type": "display_data",
          "data": {
            "application/vnd.dataresource+json": {
              "schema": {
                "fields": [
                  {
                    "name": "index",
                    "type": "integer"
                  },
                  {
                    "name": "Feature",
                    "type": "string"
                  },
                  {
                    "name": "Importance",
                    "type": "number"
                  }
                ],
                "primaryKey": [
                  "index"
                ],
                "pandas_version": "1.4.0"
              },
              "data": [
                {
                  "index": 0,
                  "Feature": "Ram",
                  "Importance": 0.5560596312696292
                },
                {
                  "index": 29,
                  "Feature": "TypeName_Notebook",
                  "Importance": 0.06461242968713304
                },
                {
                  "index": 4,
                  "Feature": "Ppi",
                  "Importance": 0.06374687314882312
                },
                {
                  "index": 1,
                  "Feature": "Weight",
                  "Importance": 0.054172496731687746
                },
                {
                  "index": 36,
                  "Feature": "Cpu_brand_Other Intel Processor",
                  "Importance": 0.04929282611301137
                },
                {
                  "index": 43,
                  "Feature": "Ram_per_Weight",
                  "Importance": 0.04044651222890126
                },
                {
                  "index": 34,
                  "Feature": "Cpu_brand_Intel Core i5",
                  "Importance": 0.036953980865602795
                },
                {
                  "index": 6,
                  "Feature": "SSD",
                  "Importance": 0.025667276116164452
                },
                {
                  "index": 35,
                  "Feature": "Cpu_brand_Intel Core i7",
                  "Importance": 0.011264632925472471
                },
                {
                  "index": 31,
                  "Feature": "TypeName_Workstation",
                  "Importance": 0.010889757307174223
                },
                {
                  "index": 41,
                  "Feature": "Os_Others",
                  "Importance": 0.0074133644048243645
                },
                {
                  "index": 42,
                  "Feature": "Os_Windows",
                  "Importance": 0.006850208895556304
                },
                {
                  "index": 14,
                  "Feature": "Company_HP",
                  "Importance": 0.006478625614011168
                },
                {
                  "index": 2,
                  "Feature": "TouchScreen",
                  "Importance": 0.006384740805414836
                },
                {
                  "index": 5,
                  "Feature": "HDD",
                  "Importance": 0.006028805539122052
                },
                {
                  "index": 3,
                  "Feature": "Ips",
                  "Importance": 0.005416254765404957
                },
                {
                  "index": 33,
                  "Feature": "Cpu_brand_Intel Core i3",
                  "Importance": 0.004764345605505598
                },
                {
                  "index": 7,
                  "Feature": "Company_Acer",
                  "Importance": 0.0046799441273467695
                },
                {
                  "index": 17,
                  "Feature": "Company_Lenovo",
                  "Importance": 0.004162546105991508
                },
                {
                  "index": 11,
                  "Feature": "Company_Dell",
                  "Importance": 0.004102559365798336
                },
                {
                  "index": 32,
                  "Feature": "Cpu_brand_AMD Processor",
                  "Importance": 0.004096277891334497
                },
                {
                  "index": 37,
                  "Feature": "Gpu_brand_AMD",
                  "Importance": 0.00408438419851156
                },
                {
                  "index": 9,
                  "Feature": "Company_Asus",
                  "Importance": 0.0038286137232491917
                },
                {
                  "index": 38,
                  "Feature": "Gpu_brand_Intel",
                  "Importance": 0.0032902843268487166
                },
                {
                  "index": 39,
                  "Feature": "Gpu_brand_Nvidia",
                  "Importance": 0.0028447298363581492
                },
                {
                  "index": 30,
                  "Feature": "TypeName_Ultrabook",
                  "Importance": 0.002221907959736948
                },
                {
                  "index": 26,
                  "Feature": "TypeName_2 in 1 Convertible",
                  "Importance": 0.0018625872238912018
                },
                {
                  "index": 27,
                  "Feature": "TypeName_Gaming",
                  "Importance": 0.0018470459033434348
                },
                {
                  "index": 21,
                  "Feature": "Company_Razer",
                  "Importance": 0.0012296254287555341
                },
                {
                  "index": 23,
                  "Feature": "Company_Toshiba",
                  "Importance": 0.0012213718853083914
                },
                {
                  "index": 28,
                  "Feature": "TypeName_Netbook",
                  "Importance": 0.001191094200158776
                },
                {
                  "index": 24,
                  "Feature": "Company_Vero",
                  "Importance": 0.000918895452743701
                },
                {
                  "index": 18,
                  "Feature": "Company_MSI",
                  "Importance": 0.0006653427535331814
                },
                {
                  "index": 20,
                  "Feature": "Company_Microsoft",
                  "Importance": 0.0002949621256526141
                },
                {
                  "index": 19,
                  "Feature": "Company_Mediacom",
                  "Importance": 0.0002546739240401889
                },
                {
                  "index": 10,
                  "Feature": "Company_Chuwi",
                  "Importance": 0.00023107936312515454
                },
                {
                  "index": 40,
                  "Feature": "Os_Mac",
                  "Importance": 0.00009736828475412896
                },
                {
                  "index": 25,
                  "Feature": "Company_Xiaomi",
                  "Importance": 0.00009370357933284303
                },
                {
                  "index": 8,
                  "Feature": "Company_Apple",
                  "Importance": 0.0000915034582129175
                },
                {
                  "index": 12,
                  "Feature": "Company_Fujitsu",
                  "Importance": 0.00007523076920861986
                },
                {
                  "index": 22,
                  "Feature": "Company_Samsung",
                  "Importance": 0.00006921049992001666
                },
                {
                  "index": 16,
                  "Feature": "Company_LG",
                  "Importance": 0.0000462017291462684
                },
                {
                  "index": 15,
                  "Feature": "Company_Huawei",
                  "Importance": 0.000028416896874958937
                },
                {
                  "index": 13,
                  "Feature": "Company_Google",
                  "Importance": 0.000027676963383387012
                }
              ],
              "datalink": {
                "display_id": "4d6c3d16-7ddf-4a39-ad91-20b9c1341669"
              }
            }
          },
          "metadata": {
            "application/vnd.dataresource+json": {
              "datalink": {
                "dataframe_info": {
                  "default_index_used": true,
                  "orig_size_bytes": 1056,
                  "orig_num_rows": 44,
                  "orig_num_cols": 2,
                  "truncated_string_columns": [],
                  "truncated_size_bytes": 1056,
                  "truncated_num_rows": 44,
                  "truncated_num_cols": 2
                },
                "dx_settings": {
                  "NUM_PAST_SAMPLES_TRACKED": 3,
                  "ENABLE_DATALINK": true,
                  "DISPLAY_MODE": "simple",
                  "GENERATE_DEX_METADATA": false,
                  "STRINGIFY_INDEX_VALUES": false,
                  "ALLOW_NOTEABLE_ATTRS": true,
                  "DISPLAY_MAX_COLUMNS": 100,
                  "HTML_TABLE_SCHEMA": false,
                  "SAMPLING_FACTOR": 0.1,
                  "LOG_LEVEL": 30,
                  "ENABLE_ASSIGNMENT": true,
                  "FLATTEN_INDEX_VALUES": false,
                  "DEV_MODE": false,
                  "COLUMN_SAMPLING_METHOD": "outer",
                  "FLATTEN_COLUMN_VALUES": true,
                  "DISPLAY_MAX_ROWS": 50000,
                  "ROW_SAMPLING_METHOD": "random",
                  "RANDOM_STATE": 12648430,
                  "DB_LOCATION": ":memory:",
                  "STRINGIFY_COLUMN_VALUES": true,
                  "SAMPLING_METHOD": "random",
                  "MAX_STRING_LENGTH": 250,
                  "MAX_RENDER_SIZE_BYTES": 104857600,
                  "RESET_INDEX_VALUES": false
                },
                "display_id": "4d6c3d16-7ddf-4a39-ad91-20b9c1341669",
                "applied_filters": [],
                "sample_history": [],
                "sampling_time": "2023-06-26T21:26:06.252915",
                "variable_name": "feature_importances",
                "user_variable_name": "feature_importances"
              },
              "display_id": "4d6c3d16-7ddf-4a39-ad91-20b9c1341669"
            }
          }
        }
      ],
      "execution_count": null,
      "metadata": {
        "noteable": {
          "cell_type": "code"
        },
        "ExecuteTime": {
          "end_time": "2023-06-26T21:26:06.408925+00:00",
          "start_time": "2023-06-26T21:26:06.164689+00:00"
        },
        "datalink": {
          "4d6c3d16-7ddf-4a39-ad91-20b9c1341669": {
            "applied_filters": [],
            "dataframe_info": {
              "default_index_used": true,
              "orig_num_cols": 2,
              "orig_num_rows": 44,
              "orig_size_bytes": 1056,
              "truncated_num_cols": 2,
              "truncated_num_rows": 44,
              "truncated_size_bytes": 1056,
              "truncated_string_columns": []
            },
            "display_id": "4d6c3d16-7ddf-4a39-ad91-20b9c1341669",
            "dx_settings": {
              "ALLOW_NOTEABLE_ATTRS": true,
              "COLUMN_SAMPLING_METHOD": "outer",
              "DB_LOCATION": ":memory:",
              "DEV_MODE": false,
              "DISPLAY_MAX_COLUMNS": 100,
              "DISPLAY_MAX_ROWS": 50000,
              "DISPLAY_MODE": "simple",
              "ENABLE_ASSIGNMENT": true,
              "ENABLE_DATALINK": true,
              "FLATTEN_COLUMN_VALUES": true,
              "FLATTEN_INDEX_VALUES": false,
              "GENERATE_DEX_METADATA": false,
              "HTML_TABLE_SCHEMA": false,
              "LOG_LEVEL": 30,
              "MAX_RENDER_SIZE_BYTES": 104857600,
              "MAX_STRING_LENGTH": 250,
              "NUM_PAST_SAMPLES_TRACKED": 3,
              "RANDOM_STATE": 12648430,
              "RESET_INDEX_VALUES": false,
              "ROW_SAMPLING_METHOD": "random",
              "SAMPLING_FACTOR": 0.1,
              "SAMPLING_METHOD": "random",
              "STRINGIFY_COLUMN_VALUES": true,
              "STRINGIFY_INDEX_VALUES": false
            },
            "sample_history": [],
            "sampling_time": "2023-06-26T21:26:06.252915",
            "user_variable_name": "feature_importances",
            "variable_name": "feature_importances"
          }
        },
        "dx": {
          "dashboard": {
            "multiViews": []
          },
          "fieldMetadata": {},
          "simpleTable": true,
          "simpleTableExpanded": true,
          "updated": 1689260535680,
          "views": [
            {
              "annotationRules": [],
              "chart": {},
              "chartMode": "grid",
              "confoRules": [],
              "decoration": {
                "footer": "",
                "subtitle": "",
                "title": "Table"
              },
              "facets": [],
              "filterSettings": {
                "SHOW_FILTER_PANEL": true,
                "filters": []
              },
              "id": "first-view",
              "isDefault": true,
              "type": "public",
              "userID": ""
            },
            {
              "annotationRules": [],
              "chart": {
                "tableSparklines": false
              },
              "chartMode": "grid",
              "confoRules": [],
              "decoration": {
                "footer": "",
                "subtitle": "",
                "title": "Table"
              },
              "facets": [],
              "filterSettings": {
                "SHOW_FILTER_PANEL": true,
                "filters": []
              },
              "id": "first-view",
              "isDefault": true,
              "isTransitory": true,
              "type": "public",
              "userID": ""
            }
          ]
        }
      },
      "id": "ab5b1c43-e756-47e9-b33e-f1622135dfc6"
    },
    {
      "cell_type": "markdown",
      "source": [
        "The 'Ram' feature is by far the most important, followed by 'TypeName_Notebook', 'Ppi', and 'Weight'. The engineered feature 'Ram_per_Weight' also appears in the top 10, suggesting that it was a useful addition to the dataset."
      ],
      "metadata": {
        "noteable": {
          "cell_type": "markdown"
        }
      },
      "id": "38bd9bcc-30fb-4e4f-842d-a4c48b7b9ede"
    },
    {
      "cell_type": "markdown",
      "source": [
        " ## 13. Residual Analysis"
      ],
      "metadata": {
        "noteable": {
          "cell_type": "markdown"
        }
      },
      "id": "434297a1-e762-4e99-a52f-74ab4f34afc1"
    },
    {
      "cell_type": "code",
      "source": [
        "import matplotlib.pyplot as plt\n",
        "\n",
        "# Calculate the residuals\n",
        "residuals = y_test - y_pred\n",
        "\n",
        "# Create a scatter plot of the predicted vs. actual values\n",
        "plt.scatter(y_pred, residuals)\n",
        "plt.xlabel('Predicted Values')\n",
        "plt.ylabel('Residuals')\n",
        "plt.title('Residual Analysis')\n",
        "plt.show()"
      ],
      "outputs": [
        {
          "output_type": "display_data",
          "data": {
            "image/png": "[encoded data removed]"
          },
          "metadata": {}
        }
      ],
      "execution_count": null,
      "metadata": {
        "noteable": {
          "cell_type": "code"
        },
        "ExecuteTime": {
          "end_time": "2023-06-26T21:27:29.446447+00:00",
          "start_time": "2023-06-26T21:27:28.958442+00:00"
        },
        "scrolled": false
      },
      "id": "f7237533-162e-4b48-9776-e762d3044bf1"
    },
    {
      "cell_type": "markdown",
      "source": [
        "The scatter plot shows the residuals (the differences between the predicted and actual prices) plotted against the predicted prices. If the model's predictions are perfect, all points would lie on the horizontal line at y = 0. The spread of points around this line gives us an idea of the error in the model's predictions.\n",
        "\n",
        "From the plot, we can see that the residuals are distributed around 0, but there is some structure in the residuals, suggesting that the model may not be capturing all relevant patterns in the data."
      ],
      "metadata": {
        "noteable": {
          "cell_type": "markdown"
        }
      },
      "id": "b7c38d93-4e10-4158-b174-9cbbd3982313"
    },
    {
      "cell_type": "markdown",
      "source": [
        "## 14. Validation"
      ],
      "metadata": {
        "noteable": {
          "cell_type": "markdown"
        }
      },
      "id": "6933b2b8-5513-4b08-9287-744827cb27a3"
    },
    {
      "cell_type": "code",
      "source": [
        "from sklearn.model_selection import cross_val_score\n",
        "\n",
        "# Perform 5-fold cross-validation\n",
        "scores = cross_val_score(grid_search.best_estimator_, X_train_encoded, y_train, cv=5, scoring='neg_mean_absolute_error')\n",
        "\n",
        "# Convert the scores to positive\n",
        "scores = -scores\n",
        "\n",
        "# Print the scores\n",
        "scores"
      ],
      "outputs": [
        {
          "output_type": "execute_result",
          "execution_count": null,
          "data": {
            "text/plain": "array([0.18020028, 0.16884203, 0.15049136, 0.17329099, 0.17692554])"
          },
          "metadata": {}
        }
      ],
      "execution_count": null,
      "metadata": {
        "noteable": {
          "cell_type": "code"
        },
        "ExecuteTime": {
          "end_time": "2023-06-26T21:28:42.723489+00:00",
          "start_time": "2023-06-26T21:28:35.398964+00:00"
        }
      },
      "id": "2ea7c709-7474-420a-a031-9ce5c5e16d55"
    },
    {
      "cell_type": "markdown",
      "source": [
        "These scores give us a more robust estimate of the model's performance, as they are based on multiple splits of the training data."
      ],
      "metadata": {
        "noteable": {
          "cell_type": "markdown"
        }
      },
      "id": "ebd6759e-18fd-4b92-afee-6bb8309ee2bb"
    },
    {
      "cell_type": "markdown",
      "source": [
        "## 15. Uncertainty Estimation"
      ],
      "metadata": {
        "noteable": {
          "cell_type": "markdown"
        }
      },
      "id": "e0a58f57-830c-4543-ac0d-f2670b14546c"
    },
    {
      "cell_type": "code",
      "source": [
        "from sklearn.utils import resample\n",
        "\n",
        "# Initialize a list to hold the bootstrap estimates\n",
        "bootstrap_estimates = []\n",
        "\n",
        "# Perform 1000 iterations\n",
        "for _ in range(1000):\n",
        "    # Create a bootstrap sample\n",
        "    X_train_sample, y_train_sample = resample(X_train_encoded, y_train)\n",
        "    \n",
        "    # Train the model on the bootstrap sample\n",
        "    model = RandomForestRegressor(random_state=42)\n",
        "    model.fit(X_train_sample, y_train_sample)\n",
        "    \n",
        "    # Use the model to make predictions on the test data\n",
        "    y_pred = model.predict(X_test_encoded)\n",
        "    \n",
        "    # Calculate the mean absolute error\n",
        "    mae = mean_absolute_error(y_test, y_pred)\n",
        "    \n",
        "    # Append the estimate to the list\n",
        "    bootstrap_estimates.append(mae)\n",
        "\n",
        "# Calculate the 95% confidence interval\n",
        "confidence_interval = np.percentile(bootstrap_estimates, [2.5, 97.5])\n",
        "\n",
        "# Print the confidence interval\n",
        "confidence_interval"
      ],
      "outputs": [
        {
          "output_type": "execute_result",
          "execution_count": null,
          "data": {
            "text/plain": "array([0.16743807, 0.18888478])"
          },
          "metadata": {}
        }
      ],
      "execution_count": null,
      "metadata": {
        "noteable": {
          "cell_type": "code"
        },
        "ExecuteTime": {
          "end_time": "2023-06-26T21:38:46.706129+00:00",
          "start_time": "2023-06-26T21:30:35.921727+00:00"
        }
      },
      "id": "6cc6cb13-6714-4d33-9cfe-eb9d5d8b02e4"
    },
    {
      "cell_type": "markdown",
      "source": [
        "The 95% confidence interval for the mean absolute error (MAE) of the model, estimated using bootstrapping, is approximately [0.167, 0.189]. This means that we can be 95% confident that the true MAE of the model is within this range."
      ],
      "metadata": {
        "noteable": {
          "cell_type": "markdown"
        }
      },
      "id": "ffd00a1a-0ca2-4d19-a13e-078e7879da9a"
    },
    {
      "cell_type": "markdown",
      "source": [
        "## Conclusion"
      ],
      "metadata": {
        "noteable": {
          "cell_type": "markdown"
        }
      },
      "id": "09c0af6e-c007-4a1a-8bc5-2edf4a0e6c05"
    },
    {
      "cell_type": "markdown",
      "source": [
        "In this notebook, we performed a comprehensive data analysis and machine learning pipeline to predict laptop prices. We started by loading and preprocessing the data, followed by exploratory data analysis and data visualization. We then split the data into a training set and a test set, and scaled the features to prepare them for machine learning.\n",
        "\n",
        "We trained a linear regression model on the training data and used it to make predictions on the test data. The mean absolute error (MAE) of the model on the test data was approximately 0.215. We then performed feature engineering by creating a new feature 'Ram_per_Weight', which slightly improved the model's performance (MAE = 0.214).\n",
        "\n",
        "Next, we performed model selection by training and evaluating several different types of models. The Random Forest Regressor performed the best, with a MAE of 0.164. We then tuned the hyperparameters of the Random Forest Regressor using grid search, which further improved its performance (MAE = 0.165).\n",
        "\n",
        "We also looked at the feature importances of the Random Forest model, which showed that the 'Ram' feature was the most important. We then performed residual analysis by plotting the residuals (the differences between the predicted and actual prices), which showed that the model may not be capturing all relevant patterns in the data.\n",
        "\n",
        "Finally, we performed validation by performing 5-fold cross-validation, and estimated the uncertainty in the model's predictions using bootstrapping. The 95% confidence interval for the MAE of the model was approximately [0.167, 0.189].\n",
        "\n",
        "In conclusion, we have built a machine learning model that can predict laptop prices with a reasonable degree of accuracy. However, there is still room for improvement. Future work could involve trying out more types of models, performing more extensive feature engineering, or collecting more data."
      ],
      "metadata": {
        "noteable": {
          "cell_type": "markdown"
        }
      },
      "id": "e67a63d3-2824-43ad-89d8-235dbb8b9642"
    }
  ],
  "metadata": {
    "selected_hardware_size": "small",
    "noteable": {
      "last_transaction_id": "5047c970-dff8-4e1b-b4fa-f53ba73e2836",
      "last_delta_id": "5047c970-dff8-4e1b-b4fa-f53ba73e2836"
    },
    "nteract": {
      "version": "noteable@2.9.0"
    }
  },
  "nbformat": 4,
  "nbformat_minor": 5
}